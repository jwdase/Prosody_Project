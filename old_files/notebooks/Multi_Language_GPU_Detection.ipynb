{
 "cells": [
  {
   "cell_type": "code",
   "execution_count": 1,
   "metadata": {},
   "outputs": [
    {
     "name": "stdout",
     "output_type": "stream",
     "text": [
      "/rdma/vast-rdma/vast-home/jwdase/projects/language-detection/notebooks\n"
     ]
    },
    {
     "name": "stdout",
     "output_type": "stream",
     "text": [
      "node094\n"
     ]
    }
   ],
   "source": [
    "from setup import setup_project_root\n",
    "setup_project_root()\n",
    "\n",
    "!pwd\n",
    "!hostname"
   ]
  },
  {
   "cell_type": "code",
   "execution_count": 2,
   "metadata": {},
   "outputs": [
    {
     "name": "stdout",
     "output_type": "stream",
     "text": [
      "Using device: cuda\n"
     ]
    }
   ],
   "source": [
    "# Ensures We're Using the GPU\n",
    "import torch\n",
    "device = torch.device('cuda' if torch.cuda.is_available() else 'cpu')\n",
    "print(f'Using device: {device}')"
   ]
  },
  {
   "cell_type": "code",
   "execution_count": 3,
   "metadata": {},
   "outputs": [],
   "source": [
    "languages = ['en', 'es', 'it', 'de']\n",
    "data_types = ['train', 'test', 'validation']\n",
    "\n",
    "window = 'range_5_5-6_0'"
   ]
  },
  {
   "cell_type": "code",
   "execution_count": 4,
   "metadata": {},
   "outputs": [
    {
     "name": "stdout",
     "output_type": "stream",
     "text": [
      "Classes: ['de' 'en' 'es' 'it']\n"
     ]
    }
   ],
   "source": [
    "from sklearn.preprocessing import LabelEncoder\n",
    "\n",
    "encoder = LabelEncoder()\n",
    "encoder.fit(list(languages))\n",
    "\n",
    "print(f'Classes: {encoder.classes_}')"
   ]
  },
  {
   "cell_type": "code",
   "execution_count": 5,
   "metadata": {},
   "outputs": [],
   "source": [
    "import glob\n",
    "from torch.utils.data import TensorDataset\n",
    "from langaugedetection.data.tensor_construct import build_tensor\n",
    "\n",
    "tensors = {\n",
    "    'train' : {},\n",
    "    'test' : {},\n",
    "    'validation' : {},\n",
    "}\n",
    "\n",
    "reference = {lang : tensors.copy() for lang in languages}\n",
    "\n",
    "\n",
    "for lang in languages:\n",
    "    for data_type in data_types:\n",
    "        base = f'/om2/user/moshepol/prosody/data/raw_audio/{lang}/spect/{data_type}/{window}/'\n",
    "\n",
    "        paths = glob.glob(base + '*.pt')\n",
    "\n",
    "        first_audio = True\n",
    "\n",
    "        spectograms_tensors = []\n",
    "        \n",
    "        for path in paths:\n",
    "            x = torch.load(path, weights_only=False)\n",
    "\n",
    "            if first_audio:\n",
    "                reference[lang][data_type] = x[0]\n",
    "                first_audio = False\n",
    "\n",
    "            # Put Tensor on range 0 --> 1\n",
    "            spectograms_tensors.append(x)\n",
    "\n",
    "        # Figrue out how to stack according to type\n",
    "        tensors[data_type][lang] = spectograms_tensors.copy()\n"
   ]
  },
  {
   "cell_type": "code",
   "execution_count": 7,
   "metadata": {},
   "outputs": [
    {
     "name": "stdout",
     "output_type": "stream",
     "text": [
      "torch.Size([64, 513, 344])\n",
      "torch.Size([513, 344])\n"
     ]
    }
   ],
   "source": [
    "print(tensors['train']['en'][1].shape)\n",
    "print(reference['en']['train'].shape)"
   ]
  },
  {
   "cell_type": "code",
   "execution_count": 8,
   "metadata": {},
   "outputs": [],
   "source": [
    "def calc_mean(tensor_list):\n",
    "    '''\n",
    "    Returns the mean and standard deviation\n",
    "    of each tensors\n",
    "    '''\n",
    "    sum_ = 0.0\n",
    "    sum_sq = 0.0\n",
    "    count = 0\n",
    "\n",
    "    for tensor in tensor_list:  # each tensor is e.g. [64, 1025, 172]\n",
    "        sum_ += tensor.sum()\n",
    "        sum_sq += (tensor ** 2).sum()\n",
    "        count += tensor.numel()\n",
    "\n",
    "    mean = sum_ / count\n",
    "    std = (sum_sq / count - mean ** 2).sqrt()\n",
    "\n",
    "    return float(mean), float(std)"
   ]
  },
  {
   "cell_type": "code",
   "execution_count": 9,
   "metadata": {},
   "outputs": [
    {
     "name": "stdout",
     "output_type": "stream",
     "text": [
      "Mean is : -40.028361320495605\n",
      "STD is: 26.82971954345703\n",
      "Mean is : -39.83550262451172\n",
      "STD is: 26.838191509246826\n",
      "Mean is : -39.93903732299805\n",
      "STD is: 26.799057960510254\n"
     ]
    }
   ],
   "source": [
    "for use, dataset in tensors.items():\n",
    "\n",
    "    mean = 0.0\n",
    "    std = 0.0\n",
    "\n",
    "    for lang, data in dataset.items():\n",
    "        mean_, std_ = calc_mean(data)\n",
    "\n",
    "        mean += mean_\n",
    "        std += std_\n",
    "\n",
    "    mean = mean / len(dataset)\n",
    "    std = std / len(dataset)\n",
    "\n",
    "    print(f'Mean is : {mean}')\n",
    "    print(f'STD is: {std}')\n",
    "\n",
    "    for lang, data in dataset.items():\n",
    "        x = [(d - mean) / std for d in data]\n",
    "        tensors[use][lang] = x"
   ]
  },
  {
   "cell_type": "code",
   "execution_count": 10,
   "metadata": {},
   "outputs": [
    {
     "name": "stdout",
     "output_type": "stream",
     "text": [
      "train and en has mean: -0.03560246154665947, std: 0.9869584441184998\n",
      "train and es has mean: 0.03044043853878975, std: 1.01228666305542\n",
      "train and it has mean: -0.010373804718255997, std: 1.012473464012146\n",
      "train and de has mean: 0.015535852871835232, std: 0.9882809519767761\n",
      "test and en has mean: -0.02780606970191002, std: 0.9919120073318481\n",
      "test and es has mean: 0.02815752476453781, std: 1.0139195919036865\n",
      "test and it has mean: -0.021531254053115845, std: 1.0116666555404663\n",
      "test and de has mean: 0.02118007279932499, std: 0.9825022220611572\n",
      "validation and en has mean: -0.039108213037252426, std: 0.9848331809043884\n",
      "validation and es has mean: 0.03299262747168541, std: 1.0184694528579712\n",
      "validation and it has mean: -0.009309578686952591, std: 1.0043926239013672\n",
      "validation and de has mean: 0.015425127930939198, std: 0.9923046231269836\n"
     ]
    }
   ],
   "source": [
    "for use, dataset in tensors.items():\n",
    "    for lang, data in dataset.items():\n",
    "\n",
    "        mean, std = calc_mean(data)\n",
    "        print(f'{use} and {lang} has mean: {mean}, std: {std}')"
   ]
  },
  {
   "cell_type": "code",
   "execution_count": 11,
   "metadata": {},
   "outputs": [],
   "source": [
    "def flatten_data(tensors):\n",
    "    result = {\n",
    "        'train' : None,\n",
    "        'test' : None,\n",
    "        'validation' : None\n",
    "    }\n",
    "\n",
    "    for dtype, dataset in tensors.items():\n",
    "\n",
    "        data_sets = []\n",
    "        \n",
    "        for lang, data in dataset.items():\n",
    "\n",
    "            # Calculates the number of labels to assign\n",
    "            values = len(data) * data[0].shape[0]\n",
    "\n",
    "            x = [d for d in data]\n",
    "            y = encoder.transform([lang] * values)\n",
    "\n",
    "            data_sets.append(\n",
    "                TensorDataset(torch.cat(x, dim=0), torch.tensor(y, dtype=torch.long))\n",
    "                )\n",
    "\n",
    "        result[dtype] = data_sets\n",
    "\n",
    "    return result\n",
    "\n",
    "tensor = flatten_data(tensors)"
   ]
  },
  {
   "cell_type": "code",
   "execution_count": 12,
   "metadata": {},
   "outputs": [],
   "source": [
    "from torch.utils.data import ConcatDataset, DataLoader\n",
    "\n",
    "train = ConcatDataset(tensor['train'])\n",
    "test = ConcatDataset(tensor['test'])\n",
    "validation = ConcatDataset(tensor['validation'])\n",
    "\n",
    "train_loader = DataLoader(train, batch_size=256, num_workers=6, pin_memory=True, shuffle=True)\n",
    "test_loader = DataLoader(test, batch_size=32, shuffle=False)\n",
    "validation_loader = DataLoader(validation, batch_size=256, num_workers=6, pin_memory=True, shuffle=True)"
   ]
  },
  {
   "cell_type": "code",
   "execution_count": 13,
   "metadata": {},
   "outputs": [
    {
     "name": "stdout",
     "output_type": "stream",
     "text": [
      "Training Tensors: 32000\n"
     ]
    }
   ],
   "source": [
    "print(f'Training Tensors: {len(train)}')"
   ]
  },
  {
   "cell_type": "code",
   "execution_count": 14,
   "metadata": {},
   "outputs": [],
   "source": [
    "import librosa\n",
    "import numpy as np\n",
    "from IPython.display import Audio, display\n",
    "from scipy.io.wavfile import write\n",
    "\n",
    "\n",
    "def play_audio(spect, return_audio, n_iter=16):\n",
    "    spect_np = spect.numpy()\n",
    "    S = librosa.db_to_amplitude(spect_np, ref=1.0)\n",
    "    reconstructed_audio = librosa.griffinlim(S, hop_length=512, n_iter=n_iter)\n",
    "    reconstructed_audio /= np.max(np.abs(reconstructed_audio))\n",
    "\n",
    "    if return_audio is False:\n",
    "        return reconstructed_audio\n",
    "\n",
    "    return Audio(reconstructed_audio, rate=16000)\n"
   ]
  },
  {
   "cell_type": "code",
   "execution_count": 15,
   "metadata": {},
   "outputs": [],
   "source": [
    "waveform = play_audio(reference['de']['test'], False)\n",
    "\n",
    "waveform_int16 = (waveform * 32767).astype(np.int16)\n",
    "write('it_test.wav', 16000, waveform_int16)"
   ]
  },
  {
   "cell_type": "code",
   "execution_count": 16,
   "metadata": {},
   "outputs": [],
   "source": [
    "import torch.nn as nn\n",
    "\n",
    "class LanguageDetector(nn.Module):\n",
    "    def __init__(self, num_classes):\n",
    "        super().__init__()\n",
    "\n",
    "        # Convolution Layers\n",
    "        self.conv1 = nn.Conv2d(1, 16, kernel_size=3, padding=1)\n",
    "        self.conv2 = nn.Conv2d(16, 32, kernel_size=3, padding=1)\n",
    "\n",
    "        # Con1: (513, 344) --> (256, 172)\n",
    "        # Con2: (256, 172) --> (128, 86)\n",
    "\n",
    "        # Neuron Layers\n",
    "        self.fc1 = nn.Linear(128 * 86 * 32, 1024)\n",
    "        self.fc2 = nn.Linear(1024, 128)\n",
    "        self.fc3 = nn.Linear(128, num_classes)\n",
    "\n",
    "        # Normalize Layers\n",
    "        self.bn1 = nn.BatchNorm2d(16)\n",
    "        self.bn2 = nn.BatchNorm2d(32)\n",
    "\n",
    "        # Pooling Features\n",
    "        self.relu = nn.ReLU()\n",
    "        self.pool = nn.MaxPool2d(kernel_size=2)\n",
    "        self.dropout = nn.Dropout(p=.3)\n",
    "\n",
    "    def forward(self, x):\n",
    "\n",
    "        # Apply 2D Convolution\n",
    "        x = self.pool(self.relu(self.bn1(self.conv1(x))))\n",
    "        x = self.pool(self.relu(self.bn2(self.conv2(x))))\n",
    "\n",
    "        # Flatten Dimensions\n",
    "        x = x.view(x.size(0), -1)\n",
    "\n",
    "        # Dense Layers\n",
    "        x = self.dropout(self.relu(self.fc1(x)))\n",
    "        x = self.dropout(self.relu(self.fc2(x)))\n",
    "        x = self.fc3(x)\n",
    "\n",
    "        return x\n",
    "\n",
    "model = LanguageDetector(len(languages))"
   ]
  },
  {
   "cell_type": "code",
   "execution_count": 17,
   "metadata": {},
   "outputs": [
    {
     "name": "stdout",
     "output_type": "stream",
     "text": [
      "The device we will be using is: cuda\n"
     ]
    }
   ],
   "source": [
    "print(f'The device we will be using is: {device}')"
   ]
  },
  {
   "cell_type": "code",
   "execution_count": 18,
   "metadata": {},
   "outputs": [
    {
     "name": "stderr",
     "output_type": "stream",
     "text": [
      "/om2/user/jwdase/miniconda3/envs/torchgpu/lib/python3.10/site-packages/torch/optim/lr_scheduler.py:62: UserWarning: The verbose parameter is deprecated. Please use get_last_lr() to access the learning rate.\n",
      "  warnings.warn(\n"
     ]
    }
   ],
   "source": [
    "model.to(device)\n",
    "criterion = nn.CrossEntropyLoss()\n",
    "optimizer = torch.optim.Adam(model.parameters(), lr=1e-4)\n",
    "\n",
    "scheduler = torch.optim.lr_scheduler.ReduceLROnPlateau(\n",
    "    optimizer, mode='min', patience=2, factor=.75, verbose=True, threshold = 1e-3\n",
    ")\n"
   ]
  },
  {
   "cell_type": "markdown",
   "metadata": {},
   "source": [
    "## Optimizers\n",
    "\n",
    "**Adam vs. SGD**\n",
    "\n",
    "Adam (Adaptive Movement Estimation) uses the first momentum and second momentum in calculating step distance, while SGD just uses first momentum\n",
    "\n",
    "**Scheduler**\n",
    "\n",
    "Works to dynamically change the learning rate based off of how much the model has learned --> in order to help it converge better in the end. We originally want our model to take large steps to get closer to convergence, then later we want small steps. This piece of code enables such bahvoir.\n",
    "\n",
    "Types:\n",
    "- ReduceLROnPlateau (Changes LR when val loss stops dropping --> need smaller learning rate to get closer)\n",
    "- CosineAnnealingLR (Slowly cools down LR like simulated annealing)\n",
    "- ExponentialLR (Decays LR by a fixed rate each time)\n",
    "\n",
    "Variables:\n",
    "- *mode* : 'mim' refers to loss, while 'max' refers to accuracy\n",
    "- *patience* : wait x epochs before modifying LR\n",
    "- *factor* : New_LR = *factor* * Old_LR\n",
    "- *threshold* : Amound that it must decrease by"
   ]
  },
  {
   "cell_type": "code",
   "execution_count": 19,
   "metadata": {},
   "outputs": [],
   "source": [
    "# Setting Reproducable Model\n",
    "import random\n",
    "import numpy as np\n",
    "\n",
    "seed = 42\n",
    "torch.manual_seed(seed)\n",
    "np.random.seed(seed)\n",
    "random.seed(seed)\n",
    "torch.backends.cudnn.deterministic = True\n",
    "torch.backends.cudnn.benchmark = False"
   ]
  },
  {
   "cell_type": "code",
   "execution_count": 20,
   "metadata": {},
   "outputs": [
    {
     "name": "stdout",
     "output_type": "stream",
     "text": [
      "Epoch [1/100]\n",
      "  Train loss:      1.7694\n",
      "  Validation loss: 1.3876\n",
      "  Validation acc:  0.2500\n",
      "Epoch [2/100]\n",
      "  Train loss:      1.3471\n",
      "  Validation loss: 1.2820\n",
      "  Validation acc:  0.4122\n",
      "Epoch [3/100]\n",
      "  Train loss:      1.2474\n",
      "  Validation loss: 1.1860\n",
      "  Validation acc:  0.4865\n",
      "Epoch [4/100]\n",
      "  Train loss:      1.1909\n",
      "  Validation loss: 1.1434\n",
      "  Validation acc:  0.4911\n",
      "Epoch [5/100]\n",
      "  Train loss:      1.1387\n",
      "  Validation loss: 1.0888\n",
      "  Validation acc:  0.5286\n",
      "Epoch [6/100]\n",
      "  Train loss:      1.0811\n",
      "  Validation loss: 1.0425\n",
      "  Validation acc:  0.5646\n",
      "Epoch [7/100]\n",
      "  Train loss:      1.0370\n",
      "  Validation loss: 1.0171\n",
      "  Validation acc:  0.5677\n"
     ]
    },
    {
     "ename": "KeyboardInterrupt",
     "evalue": "",
     "output_type": "error",
     "traceback": [
      "\u001b[0;31m---------------------------------------------------------------------------\u001b[0m",
      "\u001b[0;31mKeyboardInterrupt\u001b[0m                         Traceback (most recent call last)",
      "Cell \u001b[0;32mIn[20], line 30\u001b[0m\n\u001b[1;32m     27\u001b[0m optimizer\u001b[38;5;241m.\u001b[39mstep()\n\u001b[1;32m     29\u001b[0m \u001b[38;5;66;03m# Tracking loss\u001b[39;00m\n\u001b[0;32m---> 30\u001b[0m running_loss \u001b[38;5;241m+\u001b[39m\u001b[38;5;241m=\u001b[39m \u001b[43mloss\u001b[49m\u001b[38;5;241;43m.\u001b[39;49m\u001b[43mitem\u001b[49m\u001b[43m(\u001b[49m\u001b[43m)\u001b[49m \u001b[38;5;241m*\u001b[39m inputs\u001b[38;5;241m.\u001b[39msize(\u001b[38;5;241m0\u001b[39m)\n\u001b[1;32m     32\u001b[0m \u001b[38;5;66;03m# Tracks total number of values in train\u001b[39;00m\n\u001b[1;32m     33\u001b[0m total_train \u001b[38;5;241m+\u001b[39m\u001b[38;5;241m=\u001b[39m labels\u001b[38;5;241m.\u001b[39msize(\u001b[38;5;241m0\u001b[39m)\n",
      "\u001b[0;31mKeyboardInterrupt\u001b[0m: "
     ]
    }
   ],
   "source": [
    "num_epochs = 100\n",
    "total_loss = []\n",
    "validation_loss = []\n",
    "validation_accuracy = []\n",
    "best_acc = 0.0\n",
    "\n",
    "\n",
    "for i in range(num_epochs):\n",
    "    model.train()\n",
    "    running_loss = 0.0\n",
    "    total_train = 0\n",
    "\n",
    "    for inputs, labels in train_loader:\n",
    "        inputs = inputs.to(device)\n",
    "        labels = labels.to(device)\n",
    "\n",
    "        # Shape [64, 1025, 172] --> [64, 1, 1025, 172]\n",
    "        inputs = inputs.unsqueeze(1)\n",
    "\n",
    "        # Forward Pass\n",
    "        outputs = model(inputs)\n",
    "        loss = criterion(outputs, labels)\n",
    "\n",
    "        # Backprop + Optimizer\n",
    "        optimizer.zero_grad()\n",
    "        loss.backward()\n",
    "        optimizer.step()\n",
    "\n",
    "        # Tracking loss\n",
    "        running_loss += loss.item() * inputs.size(0)\n",
    "\n",
    "        # Tracks total number of values in train\n",
    "        total_train += labels.size(0)\n",
    "\n",
    "    total_loss.append(running_loss / total_train)\n",
    "\n",
    "    model.eval()\n",
    "    running_val_loss = 0.0\n",
    "    correct = 0\n",
    "    total_val = 0\n",
    "\n",
    "    with torch.no_grad():\n",
    "        for inputs, labels in validation_loader:\n",
    "            inputs = inputs.to(device)\n",
    "            labels = labels.to(device)\n",
    "\n",
    "            inputs = inputs.unsqueeze(1)\n",
    "\n",
    "            # Calculates models predictions\n",
    "            outputs = model(inputs)\n",
    "            loss = criterion(outputs, labels)\n",
    "\n",
    "            # Solves loss\n",
    "            running_val_loss += loss.item() * inputs.size(0)\n",
    "\n",
    "            # Checks correct entries\n",
    "            _, predicted = torch.max(outputs, 1)\n",
    "            correct += (predicted == labels).sum().item()\n",
    "\n",
    "            # Tracks total number of values in validation\n",
    "            total_val += labels.size(0)\n",
    "        \n",
    "        \n",
    "    validation_loss.append(running_val_loss / total_val)\n",
    "    validation_accuracy.append(correct / total_val)\n",
    "\n",
    "    if validation_accuracy[-1] > best_acc:\n",
    "        best_acc = validation_accuracy[-1]\n",
    "        torch.save(model.state_dict(), f'models/best_model.pth')\n",
    "            \n",
    "    scheduler.step(running_val_loss)\n",
    "\n",
    "    \n",
    "    print(f\"Epoch [{i+1}/{num_epochs}]\")\n",
    "    print(f\"  Train loss:      {total_loss[-1]:.4f}\")\n",
    "    print(f\"  Validation loss: {validation_loss[-1]:.4f}\")\n",
    "    print(f\"  Validation acc:  {validation_accuracy[-1]:.4f}\")"
   ]
  },
  {
   "cell_type": "markdown",
   "metadata": {},
   "source": [
    "# Beware of Dead Gradients\n",
    "* Messing with learning (b/c so much data)\n",
    "* Maybe reduce neurons to reduce overfitting"
   ]
  },
  {
   "cell_type": "code",
   "execution_count": 21,
   "metadata": {},
   "outputs": [],
   "source": [
    "model.eval()\n",
    "\n",
    "y_pred = []\n",
    "y_true = []\n",
    "\n",
    "with torch.no_grad():\n",
    "    for x_test, y_test in test_loader:\n",
    "\n",
    "        x_test = x_test.to(device)\n",
    "        y_test = y_test.to(device)\n",
    "\n",
    "        x_test = x_test.unsqueeze(1)\n",
    "\n",
    "        outputs = model(x_test)\n",
    "        _, predicted = torch.max(outputs, dim=1)\n",
    "\n",
    "        y_pred.extend(predicted.cpu().tolist())\n",
    "        y_true.extend(y_test.cpu().tolist())"
   ]
  },
  {
   "cell_type": "code",
   "execution_count": 23,
   "metadata": {},
   "outputs": [
    {
     "data": {
      "image/png": "[encoded data removed]",
      "text/plain": [
       "<Figure size 640x480 with 1 Axes>"
      ]
     },
     "metadata": {},
     "output_type": "display_data"
    }
   ],
   "source": [
    "import matplotlib.pyplot as plt\n",
    "\n",
    "x = list(range(7))\n",
    "\n",
    "plt.plot(x, total_loss, label='Train Loss', color='blue')\n",
    "plt.plot(x, validation_loss, label='Validation Loss', color='orange')\n",
    "\n",
    "plt.xlabel('Epochs')\n",
    "plt.ylabel('Loss')\n",
    "plt.title('Epochs vs. Loss')  # fixed typo\n",
    "plt.legend()\n",
    "plt.grid(True)\n",
    "plt.show()"
   ]
  },
  {
   "cell_type": "code",
   "execution_count": 24,
   "metadata": {},
   "outputs": [
    {
     "name": "stdout",
     "output_type": "stream",
     "text": [
      "Accuracy: 0.5854166666666667\n",
      "\n",
      "Classification Report:\n",
      "               precision    recall  f1-score   support\n",
      "\n",
      "           0       0.47      0.69      0.56       960\n",
      "           1       0.56      0.51      0.53       960\n",
      "           2       0.60      0.60      0.60       960\n",
      "           3       0.87      0.54      0.67       960\n",
      "\n",
      "    accuracy                           0.59      3840\n",
      "   macro avg       0.63      0.59      0.59      3840\n",
      "weighted avg       0.63      0.59      0.59      3840\n",
      "\n",
      "\n",
      "Confusion Matrix:\n",
      " [[663 166 116  15]\n",
      " [334 486 124  16]\n",
      " [197 138 580  45]\n",
      " [215  74 152 519]]\n",
      "Classes: ['de' 'en' 'es' 'it']\n"
     ]
    }
   ],
   "source": [
    "from sklearn.metrics import accuracy_score, classification_report, confusion_matrix\n",
    "\n",
    "print(\"Accuracy:\", accuracy_score(y_true, y_pred))\n",
    "print(\"\\nClassification Report:\\n\", classification_report(y_true, y_pred))\n",
    "print(\"\\nConfusion Matrix:\\n\", confusion_matrix(y_true, y_pred))\n",
    "\n",
    "print(f'Classes: {encoder.classes_}')"
   ]
  },
  {
   "cell_type": "code",
   "execution_count": null,
   "metadata": {},
   "outputs": [],
   "source": [
    "torch.save(model.state_dict(), 'models/final_model.pth')"
   ]
  },
  {
   "cell_type": "code",
   "execution_count": null,
   "metadata": {},
   "outputs": [],
   "source": [
    "for i, (inputs, outputs) in enumerate(test_loader):\n",
    "    torch.save(inputs, f'data/inputs_{i}.pt')\n",
    "    torch.save(outputs, f'data/outputs_{i}.pt')"
   ]
  }
 ],
 "metadata": {
  "kernelspec": {
   "display_name": "torchgpu",
   "language": "python",
   "name": "python3"
  },
  "language_info": {
   "codemirror_mode": {
    "name": "ipython",
    "version": 3
   },
   "file_extension": ".py",
   "mimetype": "text/x-python",
   "name": "python",
   "nbconvert_exporter": "python",
   "pygments_lexer": "ipython3",
   "version": "3.10.18"
  }
 },
 "nbformat": 4,
 "nbformat_minor": 2
}
