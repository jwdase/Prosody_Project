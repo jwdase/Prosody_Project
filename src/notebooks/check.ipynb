{
 "cells": [
  {
   "cell_type": "code",
   "execution_count": 38,
   "metadata": {},
   "outputs": [],
   "source": [
    "import os\n",
    "\n",
    "os.chdir('/home/jwdase/projects/language-detection/src')"
   ]
  },
  {
   "cell_type": "code",
   "execution_count": 39,
   "metadata": {},
   "outputs": [],
   "source": [
    "import pickle\n",
    "\n",
    "with open('notebooks/play/file.pkl', 'rb') as f:\n",
    "    data = pickle.load(f)\n"
   ]
  },
  {
   "cell_type": "code",
   "execution_count": 40,
   "metadata": {},
   "outputs": [
    {
     "data": {
      "text/plain": [
       "dict_keys(['ta', 'en', 'es', 'ja', 'it', 'de', 'nl'])"
      ]
     },
     "execution_count": 40,
     "metadata": {},
     "output_type": "execute_result"
    }
   ],
   "source": [
    "data.keys()"
   ]
  },
  {
   "cell_type": "code",
   "execution_count": 41,
   "metadata": {},
   "outputs": [],
   "source": [
    "total = {}\n",
    "\n",
    "for lang, dataset in data.items():\n",
    "    total[lang] = {key : [] for key in data['en']['train'].keys()}\n",
    "    for dtype, time_data in dataset.items():\n",
    "        for time, files in time_data.items():\n",
    "            total[lang][time] += files"
   ]
  },
  {
   "cell_type": "code",
   "execution_count": 42,
   "metadata": {},
   "outputs": [
    {
     "name": "stdout",
     "output_type": "stream",
     "text": [
      "0.0 - 0.5 0 0 0 0\n",
      "0.5 - 1.0 0 0 0 0\n",
      "1.0 - 1.5 0 0 0 0\n",
      "1.5 - 2.0 0 0 0 0\n",
      "2.0 - 2.5 15 15 15 16\n",
      "2.5 - 3.0 75 75 76 75\n",
      "3.0 - 3.5 315 315 315 317\n",
      "3.5 - 4.0 628 628 629 630\n",
      "4.0 - 4.5 777 777 777 778\n",
      "4.5 - 5.0 518 518 518 519\n",
      "5.0 - 5.5 596 597 596 598\n",
      "5.5 - 6.0 487 488 487 490\n",
      "6.0 - 6.5 468 468 468 472\n",
      "6.5 - 7.0 422 422 423 423\n",
      "7.0 - 7.5 352 352 352 352\n",
      "7.5 - 8.0 326 326 326 326\n",
      "8.0 - 8.5 291 291 291 291\n",
      "8.5 - 9.0 284 284 284 284\n",
      "9.0 - 9.5 391 391 391 391\n",
      "9.5 - 10.0 0 0 0 0\n",
      "Total: 5945\n"
     ]
    }
   ],
   "source": [
    "tot = 0\n",
    "for time in total['en'].keys():\n",
    "    print(time, len(total['ta'][time]), len(total['en'][time]), len(total['es'][time]), len(total['ja'][time]))\n",
    "    tot += len(total['ta'][time])\n",
    "\n",
    "print(f'Total: {tot}')"
   ]
  }
 ],
 "metadata": {
  "kernelspec": {
   "display_name": "torchgpu",
   "language": "python",
   "name": "python3"
  },
  "language_info": {
   "codemirror_mode": {
    "name": "ipython",
    "version": 3
   },
   "file_extension": ".py",
   "mimetype": "text/x-python",
   "name": "python",
   "nbconvert_exporter": "python",
   "pygments_lexer": "ipython3",
   "version": "3.10.18"
  }
 },
 "nbformat": 4,
 "nbformat_minor": 2
}
