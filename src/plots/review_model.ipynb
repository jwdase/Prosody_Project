{
 "cells": [
  {
   "cell_type": "code",
   "execution_count": 1,
   "metadata": {},
   "outputs": [],
   "source": [
    "import os\n",
    "\n",
    "os.chdir('/home/jwdase/projects/language-detection/src')\n",
    "\n",
    "DEVICE = 'cuda'"
   ]
  },
  {
   "cell_type": "code",
   "execution_count": 2,
   "metadata": {},
   "outputs": [],
   "source": [
    "import glob \n",
    "\n",
    "base = \"/om2/user/moshepol/prosody/models/test/prosody/\"\n",
    "\n",
    "inputs = glob.glob(f'{base}/inputs*.pt')\n",
    "lengths = glob.glob(f'{base}/lengths*.pt')\n",
    "labels = glob.glob(f'{base}/outputs*.pt')"
   ]
  },
  {
   "cell_type": "code",
   "execution_count": 3,
   "metadata": {},
   "outputs": [
    {
     "name": "stdout",
     "output_type": "stream",
     "text": [
      "Total Inputs: 98\n",
      "Total Lengths: 98\n",
      "Total Outputs: 98\n"
     ]
    }
   ],
   "source": [
    "print(f'Total Inputs: {len(inputs)}')\n",
    "print(f'Total Lengths: {len(lengths)}')\n",
    "print(f'Total Outputs: {len(labels)}')"
   ]
  },
  {
   "cell_type": "code",
   "execution_count": 4,
   "metadata": {},
   "outputs": [
    {
     "name": "stdout",
     "output_type": "stream",
     "text": [
      "inputs_0.pt\n",
      "lengths_0.pt\n",
      "outputs_0.pt\n",
      "inputs_13.pt\n",
      "lengths_13.pt\n",
      "outputs_13.pt\n",
      "inputs_18.pt\n",
      "lengths_18.pt\n",
      "outputs_18.pt\n",
      "inputs_22.pt\n",
      "lengths_22.pt\n",
      "outputs_22.pt\n",
      "inputs_27.pt\n",
      "lengths_27.pt\n",
      "outputs_27.pt\n",
      "inputs_31.pt\n",
      "lengths_31.pt\n",
      "outputs_31.pt\n",
      "inputs_36.pt\n",
      "lengths_36.pt\n",
      "outputs_36.pt\n",
      "inputs_40.pt\n",
      "lengths_40.pt\n",
      "outputs_40.pt\n",
      "inputs_45.pt\n",
      "lengths_45.pt\n",
      "outputs_45.pt\n",
      "inputs_5.pt\n",
      "lengths_5.pt\n",
      "outputs_5.pt\n",
      "inputs_54.pt\n",
      "lengths_54.pt\n",
      "outputs_54.pt\n",
      "inputs_59.pt\n",
      "lengths_59.pt\n",
      "outputs_59.pt\n",
      "inputs_63.pt\n",
      "lengths_63.pt\n",
      "outputs_63.pt\n",
      "inputs_68.pt\n",
      "lengths_68.pt\n",
      "outputs_68.pt\n",
      "inputs_72.pt\n",
      "lengths_72.pt\n",
      "outputs_72.pt\n",
      "inputs_77.pt\n",
      "lengths_77.pt\n",
      "outputs_77.pt\n",
      "inputs_81.pt\n",
      "lengths_81.pt\n",
      "outputs_81.pt\n",
      "inputs_86.pt\n",
      "lengths_86.pt\n",
      "outputs_86.pt\n",
      "inputs_90.pt\n",
      "lengths_90.pt\n",
      "outputs_90.pt\n",
      "inputs_95.pt\n",
      "lengths_95.pt\n",
      "outputs_95.pt\n"
     ]
    }
   ],
   "source": [
    "import torch\n",
    "from torch.utils.data import TensorDataset, DataLoader, ConcatDataset\n",
    "\n",
    "from language_detection.model.dataset import AudioDataset\n",
    "\n",
    "dataset = AudioDataset()\n",
    "\n",
    "\n",
    "for i, (inp, leng, out) in enumerate(zip(inputs, lengths, labels)):\n",
    "    if i % 5 == 0:\n",
    "        print(inp.split('/')[-1])\n",
    "        print(leng.split('/')[-1])\n",
    "        print(out.split('/')[-1])\n",
    "\n",
    "\n",
    "    inputs = torch.load(inp, weights_only=False)\n",
    "    lengths = torch.load(leng, weights_only=False)\n",
    "    labels = torch.load(out, weights_only=False)\n",
    "\n",
    "    for inp, leng, lab in zip(inputs, lengths, labels):\n",
    "        dataset.additem(inp, leng, lab)"
   ]
  },
  {
   "cell_type": "code",
   "execution_count": 5,
   "metadata": {},
   "outputs": [],
   "source": [
    "loader = DataLoader(dataset, batch_size=64, num_workers=4, shuffle=False)"
   ]
  },
  {
   "cell_type": "code",
   "execution_count": 6,
   "metadata": {},
   "outputs": [
    {
     "name": "stdout",
     "output_type": "stream",
     "text": [
      "Shape is: torch.Size([20, 297])\n",
      "Files: 6272\n"
     ]
    }
   ],
   "source": [
    "print(f'Shape is: {dataset.get_shape()}')\n",
    "print(f'Files: {len(dataset)}')"
   ]
  },
  {
   "cell_type": "code",
   "execution_count": 7,
   "metadata": {},
   "outputs": [
    {
     "name": "stdout",
     "output_type": "stream",
     "text": [
      "{np.str_('en'): 0, np.str_('de'): 1, np.str_('nl'): 2, np.str_('es'): 3, np.str_('it'): 4, np.str_('ja'): 5, np.str_('ta'): 6}\n"
     ]
    }
   ],
   "source": [
    "import joblib\n",
    "\n",
    "encoder = joblib.load(f'{base}/label_encoder.pkl')\n",
    "\n",
    "class_to_index = {label : idx for idx, label in enumerate(encoder.classes_)}\n",
    "\n",
    "print(class_to_index)"
   ]
  },
  {
   "cell_type": "code",
   "execution_count": 8,
   "metadata": {},
   "outputs": [
    {
     "data": {
      "text/plain": [
       "VarCNNRNNLanguageDetector(\n",
       "  (conv1): Conv2d(1, 16, kernel_size=(3, 3), stride=(1, 1), padding=(1, 1))\n",
       "  (bn1): BatchNorm2d(16, eps=1e-05, momentum=0.1, affine=True, track_running_stats=True)\n",
       "  (conv2): Conv2d(16, 32, kernel_size=(3, 3), stride=(1, 1), padding=(1, 1))\n",
       "  (bn2): BatchNorm2d(32, eps=1e-05, momentum=0.1, affine=True, track_running_stats=True)\n",
       "  (relu): ReLU()\n",
       "  (pool): MaxPool2d(kernel_size=2, stride=2, padding=0, dilation=1, ceil_mode=False)\n",
       "  (dropout): Dropout(p=0.3, inplace=False)\n",
       "  (rnn): LSTM(160, 128, num_layers=2, batch_first=True, dropout=0.3, bidirectional=True)\n",
       "  (classifier): Sequential(\n",
       "    (0): Linear(in_features=256, out_features=64, bias=True)\n",
       "    (1): ReLU()\n",
       "    (2): Dropout(p=0.3, inplace=False)\n",
       "    (3): Linear(in_features=64, out_features=7, bias=True)\n",
       "  )\n",
       ")"
      ]
     },
     "execution_count": 8,
     "metadata": {},
     "output_type": "execute_result"
    }
   ],
   "source": [
    "from language_detection.model.network import VarCNNRNNLanguageDetector\n",
    "\n",
    "num_classes = len(class_to_index)\n",
    "\n",
    "model = VarCNNRNNLanguageDetector(num_classes, dataset.get_shape())\n",
    "\n",
    "model.load_state_dict(torch.load(f'{base}/best_model.pth', weights_only=True, map_location=torch.device('cpu')))\n",
    "model.eval()\n",
    "\n",
    "model.to(DEVICE)"
   ]
  },
  {
   "cell_type": "code",
   "execution_count": 9,
   "metadata": {},
   "outputs": [],
   "source": [
    "y_pred = []\n",
    "y_true = []\n",
    "\n",
    "with torch.no_grad():\n",
    "    for inputs, length, label in loader:\n",
    "\n",
    "        inputs = inputs.to(DEVICE)\n",
    "        length = length.to(DEVICE)\n",
    "        label = label.to(DEVICE)\n",
    "\n",
    "        inputs = inputs.unsqueeze(1)\n",
    "\n",
    "        outputs = model(inputs, length)\n",
    "\n",
    "        _, predicted = torch.max(outputs, dim=1)\n",
    "\n",
    "        y_pred.append(predicted)\n",
    "        y_true.append(label)"
   ]
  },
  {
   "cell_type": "code",
   "execution_count": 10,
   "metadata": {},
   "outputs": [],
   "source": [
    "y_pred = torch.cat(y_pred).cpu()\n",
    "y_true = torch.cat(y_true).cpu()"
   ]
  },
  {
   "cell_type": "code",
   "execution_count": 11,
   "metadata": {},
   "outputs": [
    {
     "name": "stdout",
     "output_type": "stream",
     "text": [
      "prosody\n"
     ]
    }
   ],
   "source": [
    "name = base.split('/')[-2]\n",
    "print(name)"
   ]
  },
  {
   "cell_type": "code",
   "execution_count": 12,
   "metadata": {},
   "outputs": [
    {
     "name": "stdout",
     "output_type": "stream",
     "text": [
      "Accuracy: 0.4296875\n"
     ]
    }
   ],
   "source": [
    "from sklearn.metrics import accuracy_score\n",
    "\n",
    "acc = f\"Accuracy: {accuracy_score(y_true, y_pred)}\"\n",
    "\n",
    "print(acc)\n",
    "\n",
    "with open(f'plots/models/{name}.txt', 'w') as f:\n",
    "    f.write(acc)"
   ]
  },
  {
   "cell_type": "code",
   "execution_count": 13,
   "metadata": {},
   "outputs": [
    {
     "name": "stdout",
     "output_type": "stream",
     "text": [
      "\n",
      "Classification Report:\n",
      " {np.str_('en'): {'precision': 0.4012345679012346, 'recall': 0.43526785714285715, 'f1-score': 0.41755888650963596, 'support': 896.0}, np.str_('de'): {'precision': 0.40404040404040403, 'recall': 0.26785714285714285, 'f1-score': 0.3221476510067114, 'support': 896.0}, np.str_('nl'): {'precision': 0.43548387096774194, 'recall': 0.39174107142857145, 'f1-score': 0.41245593419506466, 'support': 896.0}, np.str_('es'): {'precision': 0.275827482447342, 'recall': 0.30691964285714285, 'f1-score': 0.2905441098784997, 'support': 896.0}, np.str_('it'): {'precision': 0.39289940828402364, 'recall': 0.3705357142857143, 'f1-score': 0.38139000574382537, 'support': 896.0}, np.str_('ja'): {'precision': 0.5272277227722773, 'recall': 0.7131696428571429, 'f1-score': 0.6062618595825426, 'support': 896.0}, np.str_('ta'): {'precision': 0.5531914893617021, 'recall': 0.5223214285714286, 'f1-score': 0.5373134328358209, 'support': 896.0}, 'accuracy': 0.4296875, 'macro avg': {'precision': 0.42712927796781797, 'recall': 0.4296875, 'f1-score': 0.4239531256788715, 'support': 6272.0}, 'weighted avg': {'precision': 0.4271292779678179, 'recall': 0.4296875, 'f1-score': 0.42395312567887156, 'support': 6272.0}}\n"
     ]
    }
   ],
   "source": [
    "import pandas as pd\n",
    "from sklearn.metrics import classification_report\n",
    "\n",
    "report = classification_report(y_true, y_pred, target_names=encoder.classes_, output_dict=True)\n",
    "\n",
    "print(\"\\nClassification Report:\\n\", report)\n",
    "\n",
    "df = pd.DataFrame(report)\n",
    "\n",
    "df.to_csv(f'plots/models/{name}.csv')"
   ]
  },
  {
   "cell_type": "code",
   "execution_count": 14,
   "metadata": {},
   "outputs": [
    {
     "data": {
      "image/png": "[encoded data removed]",
      "text/plain": [
       "<Figure size 640x480 with 2 Axes>"
      ]
     },
     "metadata": {},
     "output_type": "display_data"
    }
   ],
   "source": [
    "from sklearn.metrics import confusion_matrix, ConfusionMatrixDisplay\n",
    "import matplotlib.pyplot as plt\n",
    "\n",
    "cm = confusion_matrix(y_true, y_pred)\n",
    "disp = ConfusionMatrixDisplay(confusion_matrix=cm, display_labels=encoder.classes_)\n",
    "disp.plot(xticks_rotation='horizontal')\n",
    "plt.savefig(f'plots/models/{name}.png')"
   ]
  }
 ],
 "metadata": {
  "kernelspec": {
   "display_name": "torchgpu",
   "language": "python",
   "name": "python3"
  },
  "language_info": {
   "codemirror_mode": {
    "name": "ipython",
    "version": 3
   },
   "file_extension": ".py",
   "mimetype": "text/x-python",
   "name": "python",
   "nbconvert_exporter": "python",
   "pygments_lexer": "ipython3",
   "version": "3.10.18"
  }
 },
 "nbformat": 4,
 "nbformat_minor": 2
}
