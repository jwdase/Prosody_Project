{
 "cells": [
  {
   "cell_type": "code",
   "execution_count": 1,
   "metadata": {},
   "outputs": [],
   "source": [
    "import os\n",
    "\n",
    "os.chdir('/home/jwdase/projects/language-detection/src')\n",
    "\n",
    "DEVICE = 'cuda'"
   ]
  },
  {
   "cell_type": "code",
   "execution_count": 16,
   "metadata": {},
   "outputs": [],
   "source": [
    "import glob \n",
    "\n",
    "base = \"/om2/user/moshepol/prosody/models/test/prosody_epoch_20_tr\"\n",
    "name = 'prosody_TRANSFORM_tr_uz_epoch=13'\n",
    "\n",
    "inputs = glob.glob(f'{base}/inputs*.pt')\n",
    "lengths = glob.glob(f'{base}/lengths*.pt')\n",
    "labels = glob.glob(f'{base}/outputs*.pt')"
   ]
  },
  {
   "cell_type": "code",
   "execution_count": 17,
   "metadata": {},
   "outputs": [
    {
     "name": "stdout",
     "output_type": "stream",
     "text": [
      "Total Inputs: 0\n",
      "Total Lengths: 0\n",
      "Total Outputs: 0\n"
     ]
    }
   ],
   "source": [
    "print(f'Total Inputs: {len(inputs)}')\n",
    "print(f'Total Lengths: {len(lengths)}')\n",
    "print(f'Total Outputs: {len(labels)}')"
   ]
  },
  {
   "cell_type": "code",
   "execution_count": 4,
   "metadata": {},
   "outputs": [
    {
     "name": "stdout",
     "output_type": "stream",
     "text": [
      "inputs_0.pt\n",
      "lengths_0.pt\n",
      "outputs_0.pt\n",
      "inputs_13.pt\n",
      "lengths_13.pt\n",
      "outputs_13.pt\n",
      "inputs_18.pt\n",
      "lengths_18.pt\n",
      "outputs_18.pt\n",
      "inputs_22.pt\n",
      "lengths_22.pt\n",
      "outputs_22.pt\n",
      "inputs_6.pt\n",
      "lengths_6.pt\n",
      "outputs_6.pt\n"
     ]
    }
   ],
   "source": [
    "import torch\n",
    "from torch.utils.data import TensorDataset, DataLoader, ConcatDataset\n",
    "\n",
    "from language_detection.model.dataset import AudioDataset\n",
    "\n",
    "dataset = AudioDataset()\n",
    "\n",
    "\n",
    "for i, (inp, leng, out) in enumerate(zip(inputs, lengths, labels)):\n",
    "    if i % 5 == 0:\n",
    "        print(inp.split('/')[-1])\n",
    "        print(leng.split('/')[-1])\n",
    "        print(out.split('/')[-1])\n",
    "\n",
    "\n",
    "    inputs = torch.load(inp, weights_only=False)\n",
    "    lengths = torch.load(leng, weights_only=False)\n",
    "    labels = torch.load(out, weights_only=False)\n",
    "\n",
    "    for inp, leng, lab in zip(inputs, lengths, labels):\n",
    "        dataset.additem(inp, leng, lab)"
   ]
  },
  {
   "cell_type": "code",
   "execution_count": 5,
   "metadata": {},
   "outputs": [],
   "source": [
    "loader = DataLoader(dataset, batch_size=64, num_workers=4, shuffle=False)"
   ]
  },
  {
   "cell_type": "code",
   "execution_count": 6,
   "metadata": {},
   "outputs": [
    {
     "name": "stdout",
     "output_type": "stream",
     "text": [
      "Shape is: torch.Size([20, 297])\n",
      "Files: 6144\n"
     ]
    }
   ],
   "source": [
    "print(f'Shape is: {dataset.get_shape()}')\n",
    "print(f'Files: {len(dataset)}')"
   ]
  },
  {
   "cell_type": "code",
   "execution_count": 7,
   "metadata": {},
   "outputs": [
    {
     "name": "stdout",
     "output_type": "stream",
     "text": [
      "{np.str_('en'): 0, np.str_('de'): 1, np.str_('nl'): 2, np.str_('es'): 3, np.str_('it'): 4, np.str_('ja'): 5, np.str_('ta'): 6, np.str_('tr'): 7}\n"
     ]
    }
   ],
   "source": [
    "import joblib\n",
    "\n",
    "encoder = joblib.load(f'{base}/label_encoder.pkl')\n",
    "\n",
    "class_to_index = {label : idx for idx, label in enumerate(encoder.classes_)}\n",
    "\n",
    "print(class_to_index)"
   ]
  },
  {
   "cell_type": "code",
   "execution_count": 8,
   "metadata": {},
   "outputs": [
    {
     "data": {
      "text/plain": [
       "VarCNNTransformerLanguageDetector(\n",
       "  (conv1): Conv2d(1, 16, kernel_size=(3, 3), stride=(1, 1), padding=(1, 1))\n",
       "  (bn1): BatchNorm2d(16, eps=1e-05, momentum=0.1, affine=True, track_running_stats=True)\n",
       "  (conv2): Conv2d(16, 32, kernel_size=(3, 3), stride=(1, 1), padding=(1, 1))\n",
       "  (bn2): BatchNorm2d(32, eps=1e-05, momentum=0.1, affine=True, track_running_stats=True)\n",
       "  (relu): ReLU()\n",
       "  (dropout): Dropout(p=0.3, inplace=False)\n",
       "  (pos_encoder): PositionalEncoding()\n",
       "  (transformer): TransformerEncoder(\n",
       "    (layers): ModuleList(\n",
       "      (0-1): 2 x TransformerEncoderLayer(\n",
       "        (self_attn): MultiheadAttention(\n",
       "          (out_proj): NonDynamicallyQuantizableLinear(in_features=640, out_features=640, bias=True)\n",
       "        )\n",
       "        (linear1): Linear(in_features=640, out_features=512, bias=True)\n",
       "        (dropout): Dropout(p=0.3, inplace=False)\n",
       "        (linear2): Linear(in_features=512, out_features=640, bias=True)\n",
       "        (norm1): LayerNorm((640,), eps=1e-05, elementwise_affine=True)\n",
       "        (norm2): LayerNorm((640,), eps=1e-05, elementwise_affine=True)\n",
       "        (dropout1): Dropout(p=0.3, inplace=False)\n",
       "        (dropout2): Dropout(p=0.3, inplace=False)\n",
       "      )\n",
       "    )\n",
       "  )\n",
       "  (classifier): Sequential(\n",
       "    (0): Linear(in_features=640, out_features=640, bias=True)\n",
       "    (1): ReLU()\n",
       "    (2): Dropout(p=0.3, inplace=False)\n",
       "    (3): Linear(in_features=640, out_features=8, bias=True)\n",
       "  )\n",
       ")"
      ]
     },
     "execution_count": 8,
     "metadata": {},
     "output_type": "execute_result"
    }
   ],
   "source": [
    "from language_detection.model.network import VarCNNTransformerLanguageDetector\n",
    "\n",
    "num_classes = len(class_to_index)\n",
    "\n",
    "model = VarCNNTransformerLanguageDetector(num_classes, dataset.get_shape())\n",
    "\n",
    "model.load_state_dict(torch.load(f'{base}/best_model.pth', weights_only=True))\n",
    "model.eval()\n",
    "\n",
    "model.to(DEVICE)"
   ]
  },
  {
   "cell_type": "code",
   "execution_count": 9,
   "metadata": {},
   "outputs": [
    {
     "name": "stderr",
     "output_type": "stream",
     "text": [
      "/om2/user/jwdase/miniconda3/envs/torchgpu/lib/python3.10/site-packages/torch/nn/modules/transformer.py:502: UserWarning: The PyTorch API of nested tensors is in prototype stage and will change in the near future. (Triggered internally at ../aten/src/ATen/NestedTensorImpl.cpp:178.)\n",
      "  output = torch._nested_tensor_from_mask(\n"
     ]
    }
   ],
   "source": [
    "import torch.nn.functional as F\n",
    "\n",
    "\n",
    "y_pred = []\n",
    "y_true = []\n",
    "y_probs = []\n",
    "\n",
    "with torch.no_grad():\n",
    "    for inputs, length, label in loader:\n",
    "\n",
    "        inputs = inputs.to(DEVICE)\n",
    "        length = length.to(DEVICE)\n",
    "        label = label.to(DEVICE)\n",
    "\n",
    "        inputs = inputs.unsqueeze(1)\n",
    "\n",
    "        outputs = model(inputs, length)\n",
    "\n",
    "        probs = F.softmax(outputs, dim=1)\n",
    "\n",
    "        _, predicted = torch.max(probs, dim=1)\n",
    "\n",
    "        y_pred.append(predicted)\n",
    "        y_true.append(label)\n",
    "        y_probs.append(probs)"
   ]
  },
  {
   "cell_type": "code",
   "execution_count": 10,
   "metadata": {},
   "outputs": [],
   "source": [
    "y_pred = torch.cat(y_pred).cpu()\n",
    "y_true = torch.cat(y_true).cpu()\n",
    "y_probs = torch.cat(y_probs).cpu()"
   ]
  },
  {
   "cell_type": "code",
   "execution_count": 12,
   "metadata": {},
   "outputs": [
    {
     "name": "stdout",
     "output_type": "stream",
     "text": [
      "Accuracy: 0.3917643229166667\n"
     ]
    }
   ],
   "source": [
    "from sklearn.metrics import accuracy_score\n",
    "\n",
    "acc = f\"Accuracy: {accuracy_score(y_true, y_pred)}\"\n",
    "\n",
    "print(acc)\n",
    "\n",
    "with open(f'plots/models/{name}.txt', 'w') as f:\n",
    "    f.write(acc)"
   ]
  },
  {
   "cell_type": "code",
   "execution_count": 13,
   "metadata": {},
   "outputs": [
    {
     "name": "stdout",
     "output_type": "stream",
     "text": [
      "\n",
      "Classification Report:\n",
      " {np.str_('en'): {'precision': 0.38081805359661497, 'recall': 0.3515625, 'f1-score': 0.36560595802301965, 'support': 768.0}, np.str_('de'): {'precision': 0.36258437801350046, 'recall': 0.4895833333333333, 'f1-score': 0.4166204986149584, 'support': 768.0}, np.str_('nl'): {'precision': 0.3423312883435583, 'recall': 0.36328125, 'f1-score': 0.35249526216045485, 'support': 768.0}, np.str_('es'): {'precision': 0.3213675213675214, 'recall': 0.24479166666666666, 'f1-score': 0.2779009608277901, 'support': 768.0}, np.str_('it'): {'precision': 0.34782608695652173, 'recall': 0.3645833333333333, 'f1-score': 0.35600762873490144, 'support': 768.0}, np.str_('ja'): {'precision': 0.43467543138866066, 'recall': 0.6888020833333334, 'f1-score': 0.5329974811083124, 'support': 768.0}, np.str_('ta'): {'precision': 0.5131578947368421, 'recall': 0.45703125, 'f1-score': 0.4834710743801653, 'support': 768.0}, np.str_('tr'): {'precision': 0.4589041095890411, 'recall': 0.17447916666666666, 'f1-score': 0.2528301886792453, 'support': 768.0}, 'accuracy': 0.3917643229166667, 'macro avg': {'precision': 0.3952080954990326, 'recall': 0.3917643229166667, 'f1-score': 0.37974113156610595, 'support': 6144.0}, 'weighted avg': {'precision': 0.39520809549903263, 'recall': 0.3917643229166667, 'f1-score': 0.37974113156610595, 'support': 6144.0}}\n"
     ]
    }
   ],
   "source": [
    "import pandas as pd\n",
    "from sklearn.metrics import classification_report\n",
    "\n",
    "report = classification_report(y_true, y_pred, target_names=encoder.classes_, output_dict=True)\n",
    "\n",
    "print(\"\\nClassification Report:\\n\", report)\n",
    "\n",
    "df = pd.DataFrame(report)\n",
    "\n",
    "df.to_csv(f'plots/models/{name}.csv')"
   ]
  },
  {
   "cell_type": "code",
   "execution_count": 14,
   "metadata": {},
   "outputs": [
    {
     "data": {
      "image/png": "[encoded data removed]",
      "text/plain": [
       "<Figure size 640x480 with 2 Axes>"
      ]
     },
     "metadata": {},
     "output_type": "display_data"
    }
   ],
   "source": [
    "from sklearn.metrics import confusion_matrix, ConfusionMatrixDisplay\n",
    "import matplotlib.pyplot as plt\n",
    "\n",
    "cm = confusion_matrix(y_true, y_pred)\n",
    "disp = ConfusionMatrixDisplay(confusion_matrix=cm, display_labels=encoder.classes_)\n",
    "disp.plot(xticks_rotation='horizontal')\n",
    "plt.savefig(f'plots/models/{name}.png')"
   ]
  },
  {
   "cell_type": "code",
   "execution_count": 15,
   "metadata": {},
   "outputs": [
    {
     "ename": "NameError",
     "evalue": "name 'counts' is not defined",
     "output_type": "error",
     "traceback": [
      "\u001b[0;31m---------------------------------------------------------------------------\u001b[0m",
      "\u001b[0;31mNameError\u001b[0m                                 Traceback (most recent call last)",
      "Cell \u001b[0;32mIn[15], line 13\u001b[0m\n\u001b[1;32m     10\u001b[0m     heatmap_data[i] \u001b[38;5;241m=\u001b[39m heatmap_data[i] \u001b[38;5;241m/\u001b[39m \u001b[38;5;28msum\u001b[39m(row)\n\u001b[1;32m     12\u001b[0m \u001b[38;5;66;03m# Normalize\u001b[39;00m\n\u001b[0;32m---> 13\u001b[0m counts \u001b[38;5;241m=\u001b[39m \u001b[43mcounts\u001b[49m\u001b[38;5;241m.\u001b[39mmasked_fill(counts \u001b[38;5;241m==\u001b[39m \u001b[38;5;241m0\u001b[39m, \u001b[38;5;241m1.0\u001b[39m)\n\u001b[1;32m     15\u001b[0m \u001b[38;5;66;03m# Normalize by number of samples per true class\u001b[39;00m\n\u001b[1;32m     16\u001b[0m avg_probs \u001b[38;5;241m=\u001b[39m heatmap_data \n",
      "\u001b[0;31mNameError\u001b[0m: name 'counts' is not defined"
     ]
    }
   ],
   "source": [
    "import numpy as np\n",
    "import seaborn as sns\n",
    "\n",
    "heatmap_data = torch.zeros((num_classes, num_classes))\n",
    "\n",
    "for i, label in enumerate(y_true):\n",
    "    heatmap_data[label] += y_probs[i]\n",
    "\n",
    "for i, row in enumerate(heatmap_data):\n",
    "    heatmap_data[i] = heatmap_data[i] / sum(row)\n",
    "\n",
    "# Normalize\n",
    "counts = counts.masked_fill(counts == 0, 1.0)\n",
    "\n",
    "# Normalize by number of samples per true class\n",
    "avg_probs = heatmap_data \n",
    "\n",
    "# Plot\n",
    "plt.figure(figsize=(8, 6))\n",
    "sns.heatmap(avg_probs.numpy(), annot=True, fmt=\".2f\", cmap=\"magma\",\n",
    "            xticklabels=encoder.classes_,  # adjust as needed\n",
    "            yticklabels=encoder.classes_)\n",
    "plt.xlabel(\"Predicted Label\")\n",
    "plt.ylabel(\"True Label\")\n",
    "plt.title(\"Average Predicted Probabilities for True Labels\")\n",
    "plt.tight_layout()\n",
    "\n",
    "plt.savefig(f'plots/models/{name}_prob.png')\n",
    "\n"
   ]
  }
 ],
 "metadata": {
  "kernelspec": {
   "display_name": "torchgpu",
   "language": "python",
   "name": "python3"
  },
  "language_info": {
   "codemirror_mode": {
    "name": "ipython",
    "version": 3
   },
   "file_extension": ".py",
   "mimetype": "text/x-python",
   "name": "python",
   "nbconvert_exporter": "python",
   "pygments_lexer": "ipython3",
   "version": "3.10.18"
  }
 },
 "nbformat": 4,
 "nbformat_minor": 2
}
