{
 "cells": [
  {
   "cell_type": "code",
   "execution_count": 18,
   "metadata": {},
   "outputs": [],
   "source": [
    "import os\n",
    "\n",
    "os.chdir('/home/jwdase/projects/language-detection/src')\n",
    "\n",
    "DEVICE = 'cuda'"
   ]
  },
  {
   "cell_type": "code",
   "execution_count": 29,
   "metadata": {},
   "outputs": [],
   "source": [
    "import glob \n",
    "\n",
    "base = \"/om2/user/moshepol/prosody/models/test/prosody/\"\n",
    "\n",
    "inputs = glob.glob(f'{base}/inputs*.pt')\n",
    "lengths = glob.glob(f'{base}/lengths*.pt')\n",
    "labels = glob.glob(f'{base}/outputs*.pt')"
   ]
  },
  {
   "cell_type": "code",
   "execution_count": 30,
   "metadata": {},
   "outputs": [
    {
     "name": "stdout",
     "output_type": "stream",
     "text": [
      "Total Inputs: 25\n",
      "Total Lengths: 25\n",
      "Total Outputs: 25\n"
     ]
    }
   ],
   "source": [
    "print(f'Total Inputs: {len(inputs)}')\n",
    "print(f'Total Lengths: {len(lengths)}')\n",
    "print(f'Total Outputs: {len(labels)}')"
   ]
  },
  {
   "cell_type": "code",
   "execution_count": 31,
   "metadata": {},
   "outputs": [
    {
     "name": "stdout",
     "output_type": "stream",
     "text": [
      "inputs_0.pt\n",
      "lengths_0.pt\n",
      "outputs_0.pt\n",
      "inputs_13.pt\n",
      "lengths_13.pt\n",
      "outputs_13.pt\n",
      "inputs_18.pt\n",
      "lengths_18.pt\n",
      "outputs_18.pt\n",
      "inputs_22.pt\n",
      "lengths_22.pt\n",
      "outputs_22.pt\n",
      "inputs_5.pt\n",
      "lengths_5.pt\n",
      "outputs_5.pt\n"
     ]
    }
   ],
   "source": [
    "import torch\n",
    "from torch.utils.data import TensorDataset, DataLoader, ConcatDataset\n",
    "\n",
    "from language_detection.model.dataset import AudioDataset\n",
    "\n",
    "dataset = AudioDataset()\n",
    "\n",
    "\n",
    "for i, (inp, leng, out) in enumerate(zip(inputs, lengths, labels)):\n",
    "    if i % 5 == 0:\n",
    "        print(inp.split('/')[-1])\n",
    "        print(leng.split('/')[-1])\n",
    "        print(out.split('/')[-1])\n",
    "\n",
    "\n",
    "    inputs = torch.load(inp, weights_only=False)\n",
    "    lengths = torch.load(leng, weights_only=False)\n",
    "    labels = torch.load(out, weights_only=False)\n",
    "\n",
    "    for inp, leng, lab in zip(inputs, lengths, labels):\n",
    "        dataset.additem(inp, leng, lab)"
   ]
  },
  {
   "cell_type": "code",
   "execution_count": 32,
   "metadata": {},
   "outputs": [],
   "source": [
    "loader = DataLoader(dataset, batch_size=64, num_workers=4, shuffle=False)"
   ]
  },
  {
   "cell_type": "code",
   "execution_count": 33,
   "metadata": {},
   "outputs": [
    {
     "name": "stdout",
     "output_type": "stream",
     "text": [
      "Shape is: torch.Size([20, 297])\n",
      "Files: 6272\n"
     ]
    }
   ],
   "source": [
    "print(f'Shape is: {dataset.get_shape()}')\n",
    "print(f'Files: {len(dataset)}')"
   ]
  },
  {
   "cell_type": "code",
   "execution_count": 34,
   "metadata": {},
   "outputs": [
    {
     "name": "stdout",
     "output_type": "stream",
     "text": [
      "{np.str_('en'): 0, np.str_('de'): 1, np.str_('nl'): 2, np.str_('es'): 3, np.str_('it'): 4, np.str_('ja'): 5, np.str_('ta'): 6}\n"
     ]
    }
   ],
   "source": [
    "import joblib\n",
    "\n",
    "encoder = joblib.load(f'{base}/label_encoder.pkl')\n",
    "\n",
    "class_to_index = {label : idx for idx, label in enumerate(encoder.classes_)}\n",
    "\n",
    "print(class_to_index)"
   ]
  },
  {
   "cell_type": "code",
   "execution_count": 38,
   "metadata": {},
   "outputs": [
    {
     "data": {
      "text/plain": [
       "VarCNNRNNLanguageDetector(\n",
       "  (conv1): Conv2d(1, 16, kernel_size=(3, 3), stride=(1, 1), padding=(1, 1))\n",
       "  (bn1): BatchNorm2d(16, eps=1e-05, momentum=0.1, affine=True, track_running_stats=True)\n",
       "  (conv2): Conv2d(16, 32, kernel_size=(3, 3), stride=(1, 1), padding=(1, 1))\n",
       "  (bn2): BatchNorm2d(32, eps=1e-05, momentum=0.1, affine=True, track_running_stats=True)\n",
       "  (relu): ReLU()\n",
       "  (pool): MaxPool2d(kernel_size=2, stride=2, padding=0, dilation=1, ceil_mode=False)\n",
       "  (dropout): Dropout(p=0.3, inplace=False)\n",
       "  (rnn): LSTM(160, 128, num_layers=2, batch_first=True, dropout=0.3, bidirectional=True)\n",
       "  (classifier): Sequential(\n",
       "    (0): Linear(in_features=256, out_features=64, bias=True)\n",
       "    (1): ReLU()\n",
       "    (2): Dropout(p=0.3, inplace=False)\n",
       "    (3): Linear(in_features=64, out_features=7, bias=True)\n",
       "  )\n",
       ")"
      ]
     },
     "execution_count": 38,
     "metadata": {},
     "output_type": "execute_result"
    }
   ],
   "source": [
    "from language_detection.model.network import VarCNNRNNLanguageDetector\n",
    "\n",
    "num_classes = len(class_to_index)\n",
    "\n",
    "model = VarCNNRNNLanguageDetector(num_classes, dataset.get_shape())\n",
    "\n",
    "model.load_state_dict(torch.load(f'{base}/best_model.pth', weights_only=True, map_location=torch.device('cpu')))\n",
    "model.eval()\n",
    "\n",
    "model.to(DEVICE)"
   ]
  },
  {
   "cell_type": "code",
   "execution_count": 39,
   "metadata": {},
   "outputs": [],
   "source": [
    "y_pred = []\n",
    "y_true = []\n",
    "\n",
    "with torch.no_grad():\n",
    "    for inputs, length, label in loader:\n",
    "\n",
    "        inputs = inputs.to(DEVICE)\n",
    "        length = length.to(DEVICE)\n",
    "        label = label.to(DEVICE)\n",
    "\n",
    "        inputs = inputs.unsqueeze(1)\n",
    "\n",
    "        outputs = model(inputs, length)\n",
    "\n",
    "        _, predicted = torch.max(outputs, dim=1)\n",
    "\n",
    "        y_pred.append(predicted)\n",
    "        y_true.append(label)"
   ]
  },
  {
   "cell_type": "code",
   "execution_count": 40,
   "metadata": {},
   "outputs": [],
   "source": [
    "y_pred = torch.cat(y_pred).cpu()\n",
    "y_true = torch.cat(y_true).cpu()"
   ]
  },
  {
   "cell_type": "code",
   "execution_count": 45,
   "metadata": {},
   "outputs": [
    {
     "name": "stdout",
     "output_type": "stream",
     "text": [
      "prosody\n"
     ]
    }
   ],
   "source": [
    "name = base.split('/')[-2]\n",
    "print(name)"
   ]
  },
  {
   "cell_type": "code",
   "execution_count": 46,
   "metadata": {},
   "outputs": [
    {
     "name": "stdout",
     "output_type": "stream",
     "text": [
      "Accuracy: 0.383609693877551\n"
     ]
    }
   ],
   "source": [
    "from sklearn.metrics import accuracy_score\n",
    "\n",
    "acc = f\"Accuracy: {accuracy_score(y_true, y_pred)}\"\n",
    "\n",
    "print(acc)\n",
    "\n",
    "with open(f'plots/models/{name}.txt', 'w') as f:\n",
    "    f.write(acc)"
   ]
  },
  {
   "cell_type": "code",
   "execution_count": 47,
   "metadata": {},
   "outputs": [
    {
     "name": "stdout",
     "output_type": "stream",
     "text": [
      "\n",
      "Classification Report:\n",
      " {np.str_('en'): {'precision': 0.3584392014519056, 'recall': 0.4408482142857143, 'f1-score': 0.3953953953953954, 'support': 896.0}, np.str_('de'): {'precision': 0.33682830930537355, 'recall': 0.28683035714285715, 'f1-score': 0.30982519590114527, 'support': 896.0}, np.str_('nl'): {'precision': 0.33263598326359833, 'recall': 0.3549107142857143, 'f1-score': 0.3434125269978402, 'support': 896.0}, np.str_('es'): {'precision': 0.2833607907742998, 'recall': 0.19196428571428573, 'f1-score': 0.22887558216899534, 'support': 896.0}, np.str_('it'): {'precision': 0.36083916083916084, 'recall': 0.28794642857142855, 'f1-score': 0.3202979515828678, 'support': 896.0}, np.str_('ja'): {'precision': 0.495949594959496, 'recall': 0.6149553571428571, 'f1-score': 0.5490782262082711, 'support': 896.0}, np.str_('ta'): {'precision': 0.44695481335952847, 'recall': 0.5078125, 'f1-score': 0.4754440961337513, 'support': 896.0}, 'accuracy': 0.383609693877551, 'macro avg': {'precision': 0.37357255056476607, 'recall': 0.383609693877551, 'f1-score': 0.37461842491260944, 'support': 6272.0}, 'weighted avg': {'precision': 0.37357255056476607, 'recall': 0.383609693877551, 'f1-score': 0.3746184249126095, 'support': 6272.0}}\n"
     ]
    }
   ],
   "source": [
    "import pandas as pd\n",
    "from sklearn.metrics import classification_report\n",
    "\n",
    "report = classification_report(y_true, y_pred, target_names=encoder.classes_, output_dict=True)\n",
    "\n",
    "print(\"\\nClassification Report:\\n\", report)\n",
    "\n",
    "df = pd.DataFrame(report)\n",
    "\n",
    "df.to_csv(f'plots/models/{name}.csv')"
   ]
  },
  {
   "cell_type": "code",
   "execution_count": 48,
   "metadata": {},
   "outputs": [
    {
     "data": {
      "image/png": "[encoded data removed]",
      "text/plain": [
       "<Figure size 640x480 with 2 Axes>"
      ]
     },
     "metadata": {},
     "output_type": "display_data"
    }
   ],
   "source": [
    "from sklearn.metrics import confusion_matrix, ConfusionMatrixDisplay\n",
    "import matplotlib.pyplot as plt\n",
    "\n",
    "cm = confusion_matrix(y_true, y_pred)\n",
    "disp = ConfusionMatrixDisplay(confusion_matrix=cm, display_labels=encoder.classes_)\n",
    "disp.plot(xticks_rotation='horizontal')\n",
    "plt.savefig(f'plots/models/{name}.png')"
   ]
  }
 ],
 "metadata": {
  "kernelspec": {
   "display_name": "torchgpu",
   "language": "python",
   "name": "python3"
  },
  "language_info": {
   "codemirror_mode": {
    "name": "ipython",
    "version": 3
   },
   "file_extension": ".py",
   "mimetype": "text/x-python",
   "name": "python",
   "nbconvert_exporter": "python",
   "pygments_lexer": "ipython3",
   "version": "3.10.18"
  }
 },
 "nbformat": 4,
 "nbformat_minor": 2
}
