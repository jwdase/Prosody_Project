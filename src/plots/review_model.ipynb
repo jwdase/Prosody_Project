{
 "cells": [
  {
   "cell_type": "code",
   "execution_count": 24,
   "metadata": {},
   "outputs": [],
   "source": [
    "import os\n",
    "\n",
    "os.chdir('/home/jwdase/projects/language-detection/src')\n",
    "\n",
    "DEVICE = 'cpu'"
   ]
  },
  {
   "cell_type": "code",
   "execution_count": 25,
   "metadata": {},
   "outputs": [],
   "source": [
    "import glob \n",
    "\n",
    "base = \"/om2/user/moshepol/prosody/models/test/four_lang_prosody\"\n",
    "\n",
    "inputs = glob.glob(f'{base}/inputs*.pt')\n",
    "labels = glob.glob(f'{base}/outputs*.pt')"
   ]
  },
  {
   "cell_type": "code",
   "execution_count": 26,
   "metadata": {},
   "outputs": [
    {
     "name": "stdout",
     "output_type": "stream",
     "text": [
      "Total Inputs: 7\n",
      "Total Outputs: 7\n"
     ]
    }
   ],
   "source": [
    "print(f'Total Inputs: {len(inputs)}')\n",
    "print(f'Total Outputs: {len(labels)}')"
   ]
  },
  {
   "cell_type": "code",
   "execution_count": 27,
   "metadata": {},
   "outputs": [
    {
     "name": "stdout",
     "output_type": "stream",
     "text": [
      "inputs_0.pt\n",
      "outputs_0.pt\n",
      "inputs_5.pt\n",
      "outputs_5.pt\n"
     ]
    }
   ],
   "source": [
    "import torch\n",
    "from torch.utils.data import TensorDataset, DataLoader, ConcatDataset\n",
    "\n",
    "tensors = []\n",
    "first = {'train' : {'en' : ''}}\n",
    "\n",
    "for i, (inp, out) in enumerate(zip(inputs, labels)):\n",
    "\n",
    "    if i % 5 == 0:\n",
    "        print(inp.split('/')[-1])\n",
    "        print(out.split('/')[-1])\n",
    "\n",
    "    if i == 0:\n",
    "        first['train']['en'] = torch.load(inp, weights_only=False)\n",
    "\n",
    "    tensors.append(\n",
    "        TensorDataset(\n",
    "            torch.load(inp, weights_only=False), \n",
    "            torch.load(out, weights_only=False)\n",
    "            )\n",
    "        )"
   ]
  },
  {
   "cell_type": "code",
   "execution_count": 28,
   "metadata": {},
   "outputs": [],
   "source": [
    "data = ConcatDataset(tensors)\n",
    "loader = DataLoader(data, batch_size=256, num_workers=4, shuffle=False)"
   ]
  },
  {
   "cell_type": "code",
   "execution_count": 29,
   "metadata": {},
   "outputs": [
    {
     "data": {
      "text/plain": [
       "torch.Size([20, 141])"
      ]
     },
     "execution_count": 29,
     "metadata": {},
     "output_type": "execute_result"
    }
   ],
   "source": [
    "first['train']['en'][0].shape"
   ]
  },
  {
   "cell_type": "code",
   "execution_count": 30,
   "metadata": {},
   "outputs": [
    {
     "name": "stdout",
     "output_type": "stream",
     "text": [
      "{np.str_('en'): 0, np.str_('de'): 1, np.str_('nl'): 2, np.str_('es'): 3, np.str_('it'): 4, np.str_('ja'): 5, np.str_('ta'): 6}\n"
     ]
    }
   ],
   "source": [
    "import joblib\n",
    "\n",
    "encoder = joblib.load(f'{base}/label_encoder.pkl')\n",
    "\n",
    "class_to_index = {label : idx for idx, label in enumerate(encoder.classes_)}\n",
    "\n",
    "print(class_to_index)"
   ]
  },
  {
   "cell_type": "code",
   "execution_count": 31,
   "metadata": {},
   "outputs": [
    {
     "data": {
      "text/plain": [
       "CNNRNNLanguageDetector(\n",
       "  (conv1): Conv2d(1, 16, kernel_size=(3, 3), stride=(1, 1), padding=(1, 1))\n",
       "  (bn1): BatchNorm2d(16, eps=1e-05, momentum=0.1, affine=True, track_running_stats=True)\n",
       "  (conv2): Conv2d(16, 32, kernel_size=(3, 3), stride=(1, 1), padding=(1, 1))\n",
       "  (bn2): BatchNorm2d(32, eps=1e-05, momentum=0.1, affine=True, track_running_stats=True)\n",
       "  (relu): ReLU()\n",
       "  (pool): MaxPool2d(kernel_size=2, stride=2, padding=0, dilation=1, ceil_mode=False)\n",
       "  (dropout): Dropout(p=0.3, inplace=False)\n",
       "  (rnn): LSTM(160, 128, num_layers=2, batch_first=True, dropout=0.3, bidirectional=True)\n",
       "  (classifier): Sequential(\n",
       "    (0): Linear(in_features=256, out_features=64, bias=True)\n",
       "    (1): ReLU()\n",
       "    (2): Dropout(p=0.3, inplace=False)\n",
       "    (3): Linear(in_features=64, out_features=7, bias=True)\n",
       "  )\n",
       ")"
      ]
     },
     "execution_count": 31,
     "metadata": {},
     "output_type": "execute_result"
    }
   ],
   "source": [
    "from language_detection.model.network import CNNRNNLanguageDetector\n",
    "\n",
    "num_classes = len(class_to_index)\n",
    "\n",
    "model = CNNRNNLanguageDetector(num_classes, first['train']['en'][0].shape)\n",
    "\n",
    "model.load_state_dict(torch.load(f'{base}/best_model.pth', weights_only=True, map_location=torch.device('cpu')))\n",
    "model.eval()\n",
    "\n",
    "model.to(DEVICE)"
   ]
  },
  {
   "cell_type": "code",
   "execution_count": 32,
   "metadata": {},
   "outputs": [],
   "source": [
    "y_pred = []\n",
    "y_true = []\n",
    "\n",
    "with torch.no_grad():\n",
    "    for inputs, label in loader:\n",
    "\n",
    "        inputs = inputs.to(DEVICE)\n",
    "        label = label.to(DEVICE)\n",
    "\n",
    "        inputs = inputs.unsqueeze(1)\n",
    "\n",
    "        outputs = model(inputs)\n",
    "\n",
    "        _, predicted = torch.max(outputs, dim=1)\n",
    "\n",
    "        y_pred.append(predicted)\n",
    "        y_true.append(label)"
   ]
  },
  {
   "cell_type": "code",
   "execution_count": 33,
   "metadata": {},
   "outputs": [],
   "source": [
    "y_pred = torch.cat(y_pred).cpu()\n",
    "y_true = torch.cat(y_true).cpu()"
   ]
  },
  {
   "cell_type": "code",
   "execution_count": 34,
   "metadata": {},
   "outputs": [],
   "source": [
    "name = base.split('/')[-1]"
   ]
  },
  {
   "cell_type": "code",
   "execution_count": 35,
   "metadata": {},
   "outputs": [
    {
     "name": "stdout",
     "output_type": "stream",
     "text": [
      "Accuracy: 0.40513392857142855\n"
     ]
    }
   ],
   "source": [
    "from sklearn.metrics import accuracy_score\n",
    "\n",
    "acc = f\"Accuracy: {accuracy_score(y_true, y_pred)}\"\n",
    "\n",
    "print(acc)\n",
    "\n",
    "with open(f'plots/models/{name}.txt', 'w') as f:\n",
    "    f.write(acc)"
   ]
  },
  {
   "cell_type": "code",
   "execution_count": 36,
   "metadata": {},
   "outputs": [
    {
     "name": "stdout",
     "output_type": "stream",
     "text": [
      "\n",
      "Classification Report:\n",
      " {np.str_('en'): {'precision': 0.3853211009174312, 'recall': 0.328125, 'f1-score': 0.35443037974683544, 'support': 256.0}, np.str_('de'): {'precision': 0.350597609561753, 'recall': 0.34375, 'f1-score': 0.34714003944773175, 'support': 256.0}, np.str_('nl'): {'precision': 0.3197278911564626, 'recall': 0.18359375, 'f1-score': 0.23325062034739455, 'support': 256.0}, np.str_('es'): {'precision': 0.3231292517006803, 'recall': 0.37109375, 'f1-score': 0.34545454545454546, 'support': 256.0}, np.str_('it'): {'precision': 0.2972972972972973, 'recall': 0.21484375, 'f1-score': 0.2494331065759637, 'support': 256.0}, np.str_('ja'): {'precision': 0.5224719101123596, 'recall': 0.7265625, 'f1-score': 0.6078431372549019, 'support': 256.0}, np.str_('ta'): {'precision': 0.501466275659824, 'recall': 0.66796875, 'f1-score': 0.5728643216080402, 'support': 256.0}, 'accuracy': 0.40513392857142855, 'macro avg': {'precision': 0.38571590520082977, 'recall': 0.40513392857142855, 'f1-score': 0.387202307205059, 'support': 1792.0}, 'weighted avg': {'precision': 0.38571590520082977, 'recall': 0.40513392857142855, 'f1-score': 0.387202307205059, 'support': 1792.0}}\n"
     ]
    }
   ],
   "source": [
    "import pandas as pd\n",
    "from sklearn.metrics import classification_report\n",
    "\n",
    "report = classification_report(y_true, y_pred, target_names=encoder.classes_, output_dict=True)\n",
    "\n",
    "print(\"\\nClassification Report:\\n\", report)\n",
    "\n",
    "df = pd.DataFrame(report)\n",
    "\n",
    "df.to_csv(f'plots/models/{name}.csv')"
   ]
  },
  {
   "cell_type": "code",
   "execution_count": 37,
   "metadata": {},
   "outputs": [
    {
     "data": {
      "image/png": "[encoded data removed]",
      "text/plain": [
       "<Figure size 640x480 with 2 Axes>"
      ]
     },
     "metadata": {},
     "output_type": "display_data"
    }
   ],
   "source": [
    "from sklearn.metrics import confusion_matrix, ConfusionMatrixDisplay\n",
    "import matplotlib.pyplot as plt\n",
    "\n",
    "cm = confusion_matrix(y_true, y_pred)\n",
    "disp = ConfusionMatrixDisplay(confusion_matrix=cm, display_labels=encoder.classes_)\n",
    "disp.plot(xticks_rotation='horizontal')\n",
    "plt.savefig(f'plots/models/{name}.png')"
   ]
  }
 ],
 "metadata": {
  "kernelspec": {
   "display_name": "torchgpu",
   "language": "python",
   "name": "python3"
  },
  "language_info": {
   "codemirror_mode": {
    "name": "ipython",
    "version": 3
   },
   "file_extension": ".py",
   "mimetype": "text/x-python",
   "name": "python",
   "nbconvert_exporter": "python",
   "pygments_lexer": "ipython3",
   "version": "3.10.18"
  }
 },
 "nbformat": 4,
 "nbformat_minor": 2
}
