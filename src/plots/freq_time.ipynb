{
 "cells": [
  {
   "cell_type": "code",
   "execution_count": 1,
   "metadata": {},
   "outputs": [],
   "source": [
    "import os\n",
    "\n",
    "os.chdir('/home/jwdase/projects/language-detection/src')"
   ]
  },
  {
   "cell_type": "code",
   "execution_count": 2,
   "metadata": {},
   "outputs": [
    {
     "name": "stdout",
     "output_type": "stream",
     "text": [
      "Finished: en\n"
     ]
    }
   ],
   "source": [
    "import pandas as pd\n",
    "\n",
    "from language_detection.data.csv_tools.read import select_array, convert_to_list\n",
    "from language_detection.data.audio import get_length\n",
    "\n",
    "languages = [\"en\", \"de\", \"it\", \"es\"]\n",
    "\n",
    "sizes = {}\n",
    "\n",
    "for lang in languages:\n",
    "    base = f\"/om2/user/moshepol/prosody/data/raw_audio/{lang}/custom/length.csv\"\n",
    "    df = pd.read_csv(base)\n",
    "\n",
    "    x = []\n",
    "\n",
    "    for val in df[\"5.5 - 6.0\"]:\n",
    "        for link in convert_to_list(val):\n",
    "            x.append(get_length(link))\n",
    "\n",
    "    sizes[lang] = x.copy()\n",
    "\n",
    "    print(f'Finished: {lang}')"
   ]
  },
  {
   "cell_type": "code",
   "execution_count": null,
   "metadata": {},
   "outputs": [],
   "source": [
    "import matplotlib.pyplot as plt\n",
    "\n",
    "datasets = [item for _, item in sizes.items()]\n",
    "fig, axs = plt.subplots(2, 2, figsize=(15, 10))  \n",
    "\n",
    "for i, lang in enumerate(languages):\n",
    "    axs.flat[i].hist(sizes[lang], bins=20, color='skyblue', edgecolor='black')\n",
    "    axs.flat[i].set_title(f\"{lang.upper()} Length Distribution\")\n",
    "    axs.flat[i].set_xlabel(\"Duration (seconds)\")\n",
    "    axs.flat[i].set_ylabel(\"Count\")\n",
    "\n",
    "plt.tight_layout()\n",
    "plt.savefig(\"plots/figures/length.pdf\", format=\"pdf\")\n",
    "plt.close()\n",
    "\n"
   ]
  }
 ],
 "metadata": {
  "kernelspec": {
   "display_name": "torchgpu",
   "language": "python",
   "name": "python3"
  },
  "language_info": {
   "codemirror_mode": {
    "name": "ipython",
    "version": 3
   },
   "file_extension": ".py",
   "mimetype": "text/x-python",
   "name": "python",
   "nbconvert_exporter": "python",
   "pygments_lexer": "ipython3",
   "version": "3.10.18"
  }
 },
 "nbformat": 4,
 "nbformat_minor": 2
}
