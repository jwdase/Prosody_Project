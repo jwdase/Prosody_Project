{
 "cells": [
  {
   "cell_type": "code",
   "execution_count": 5,
   "id": "9f33bcbc",
   "metadata": {},
   "outputs": [],
   "source": [
    "# Set main root\n",
    "from setup import setup_project_root\n",
    "setup_project_root()"
   ]
  },
  {
   "cell_type": "code",
   "execution_count": 6,
   "id": "c61c9af6",
   "metadata": {},
   "outputs": [
    {
     "name": "stdout",
     "output_type": "stream",
     "text": [
      "Loading en from: /Users/jonathan/Desktop/UROP/Coding/language-detection/data/en/validated.tsv\n",
      "Loading it from: /Users/jonathan/Desktop/UROP/Coding/language-detection/data/it/validated.tsv\n",
      "Unique English speakers: 926\n",
      "Unique Italian speakers: 2012\n"
     ]
    }
   ],
   "source": [
    "from langaugedetection.data.com_voice_dir import open_files, person_to_group\n",
    "\n",
    "en_df = open_files('en', 10_000)\n",
    "it_df = open_files('it', 10_000)\n",
    "\n",
    "en_people = person_to_group(en_df)\n",
    "it_people = person_to_group(it_df)\n",
    "\n",
    "print(f'Unique English speakers: {len(en_people)}')\n",
    "print(f'Unique Italian speakers: {len(it_people)}')"
   ]
  },
  {
   "cell_type": "code",
   "execution_count": 33,
   "id": "f7dcdec1",
   "metadata": {},
   "outputs": [
    {
     "name": "stdout",
     "output_type": "stream",
     "text": [
      "English Data Files: 595\n",
      "Italian Data Files: 899\n"
     ]
    }
   ],
   "source": [
    "import importlib\n",
    "import langaugedetection.data.audio_length as audio_length\n",
    "\n",
    "from langaugedetection.data.audio_length import valid_paths, random_audio\n",
    "\n",
    "importlib.reload(audio_length)\n",
    "\n",
    "import random\n",
    "\n",
    "choices = 2\n",
    "\n",
    "en_people_to_paths = {people : valid_paths(df, 5, 1, 'en') for people, df in en_people.items()}\n",
    "it_people_to_paths = {people : valid_paths(df, 5, 1, 'it') for people, df in it_people.items()}\n",
    "\n",
    "en_audio = []\n",
    "for _, files in en_people_to_paths.items():\n",
    "    en_audio.extend(random.sample(files, min(len(files), choices)))\n",
    "\n",
    "it_audio = []\n",
    "for _, files in it_people_to_paths.items():\n",
    "    it_audio.extend(random.sample(files, min(len(files), choices)))\n",
    "\n",
    "print(f'English Data Files: {len(en_audio)}')\n",
    "print(f'Italian Data Files: {len(it_audio)}')"
   ]
  },
  {
   "cell_type": "code",
   "execution_count": 13,
   "id": "198db4e7",
   "metadata": {},
   "outputs": [],
   "source": [
    "from langaugedetection.data.spectrogram import parse\n",
    "\n",
    "en_spect = parse(en_audio)\n",
    "it_spect = parse(it_audio)"
   ]
  },
  {
   "cell_type": "code",
   "execution_count": 14,
   "id": "a3513382",
   "metadata": {},
   "outputs": [
    {
     "name": "stdout",
     "output_type": "stream",
     "text": [
      "English tensor shape is: torch.Size([595, 1, 1025, 216])\n",
      "Italian tensor shape is: torch.Size([899, 1, 1025, 216])\n"
     ]
    }
   ],
   "source": [
    "from langaugedetection.data.tensor_construct import build_tensor\n",
    "\n",
    "en_tensor = build_tensor(en_spect)\n",
    "it_tensor = build_tensor(it_spect)\n",
    "\n",
    "print(f'English tensor shape is: {en_tensor.shape}')\n",
    "print(f'Italian tensor shape is: {it_tensor.shape}')"
   ]
  },
  {
   "cell_type": "code",
   "execution_count": 15,
   "id": "8fe1371a",
   "metadata": {},
   "outputs": [],
   "source": [
    "from sklearn.preprocessing import LabelEncoder\n",
    "import torch\n",
    "\n",
    "English_entries = en_tensor.shape[0]\n",
    "Italian_entries = it_tensor.shape[0]\n",
    "\n",
    "encoder = LabelEncoder()\n",
    "\n",
    "encoder.fit(['English', 'Italian'])\n",
    "\n",
    "en_encoder_label = encoder.transform(English_entries * ['English'])\n",
    "it_encoder_label = encoder.transform(Italian_entries * ['Italian'])\n",
    "\n",
    "en_y = torch.tensor(en_encoder_label, dtype = torch.float32)\n",
    "it_y = torch.tensor(it_encoder_label, dtype = torch.float32)"
   ]
  },
  {
   "cell_type": "code",
   "execution_count": 16,
   "id": "19ce3864",
   "metadata": {},
   "outputs": [
    {
     "name": "stdout",
     "output_type": "stream",
     "text": [
      "Training values: 1195\n",
      "Testing values: 299\n"
     ]
    }
   ],
   "source": [
    "from torch.utils.data import TensorDataset, ConcatDataset\n",
    "from langaugedetection.data.tensor_construct import split_dataset\n",
    "\n",
    "train_en, test_en = split_dataset(TensorDataset(en_tensor, en_y), .8)\n",
    "train_it, test_it = split_dataset(TensorDataset(it_tensor, it_y), .8)\n",
    "\n",
    "train = ConcatDataset([train_en, train_it])\n",
    "test = ConcatDataset([test_en, test_it])\n",
    "\n",
    "print(f'Training values: {len(train)}')\n",
    "print(f'Testing values: {len(test)}')"
   ]
  },
  {
   "cell_type": "code",
   "execution_count": 17,
   "id": "148a62e5",
   "metadata": {},
   "outputs": [],
   "source": [
    "from torch.utils.data import DataLoader\n",
    "\n",
    "loader = DataLoader(train, batch_size=64, shuffle = True)"
   ]
  },
  {
   "cell_type": "code",
   "execution_count": 18,
   "id": "0279e2f8",
   "metadata": {},
   "outputs": [],
   "source": [
    "import torch.nn as nn\n",
    "\n",
    "class LanguageDetector(nn.Module):\n",
    "    def __init__(self):\n",
    "        super().__init__()\n",
    "\n",
    "        # 2 Convolution Layers\n",
    "        self.conv1 = nn.Conv2d(1, 16, kernel_size=3, padding=1)\n",
    "        self.conv2 = nn.Conv2d(16, 32, kernel_size=3, padding=1)\n",
    "\n",
    "        # Neuron Layers\n",
    "        # Now apply linear layer --> Dimensions of input are \n",
    "        # Con1 \n",
    "        # (1025, 216) --> (512, 108)\n",
    "        # Con2\n",
    "        # (512, 108) --> (256, 54)\n",
    "        # Now we have 32 of these with respective filters applied\n",
    "        self.fc1 = nn.Linear(32 * 256 * 54, 256)\n",
    "        self.fc2 = nn.Linear(256, 32)\n",
    "        self.fc3 = nn.Linear(32, 1)\n",
    "\n",
    "        # Relu, Pool Function\n",
    "        self.relu = nn.ReLU()\n",
    "        self.pool = nn.MaxPool2d(kernel_size=2, stride = 2)\n",
    "\n",
    "\n",
    "    def forward(self, x):\n",
    "\n",
    "        # 2D Convolution Apllication\n",
    "        x = self.pool(self.relu(self.conv1(x)))\n",
    "        x = self.pool(self.relu(self.conv2(x)))\n",
    "\n",
    "        # Flatten Dimensions\n",
    "        x = x.view(x.size(0), -1)\n",
    "\n",
    "        # Dense Layers\n",
    "        x = self.relu(self.fc1(x))\n",
    "        x = self.relu(self.fc2(x))\n",
    "\n",
    "        # Sigmoid\n",
    "        x = self.fc3(x)\n",
    "\n",
    "        return x\n",
    "\n",
    "model = LanguageDetector()"
   ]
  },
  {
   "cell_type": "code",
   "execution_count": 19,
   "id": "68657fcf",
   "metadata": {},
   "outputs": [],
   "source": [
    "criterion = nn.BCEWithLogitsLoss()\n",
    "optimizer = torch.optim.Adam(model.parameters(), lr = .001)"
   ]
  },
  {
   "cell_type": "code",
   "execution_count": 20,
   "id": "56b903e6",
   "metadata": {},
   "outputs": [
    {
     "name": "stdout",
     "output_type": "stream",
     "text": [
      "Epoch : [1 /1], loss 0.8490292429924011\n"
     ]
    }
   ],
   "source": [
    "# Train\n",
    "model.train()\n",
    "num_epochs = 1 # Should be around 25\n",
    "total_loss = []\n",
    "\n",
    "for i in range(num_epochs):\n",
    "\n",
    "    epoch_loss = 0\n",
    "\n",
    "    for x_batch, y_batch in loader:\n",
    "\n",
    "        # Evaluate\n",
    "        outputs = model(x_batch).squeeze(1)\n",
    "        loss = criterion(outputs, y_batch.float())\n",
    "\n",
    "        # Update Model\n",
    "        model.zero_grad()\n",
    "        loss.backward()\n",
    "        optimizer.step()\n",
    "\n",
    "        epoch_loss += loss\n",
    "\n",
    "    total_loss.append(epoch_loss / len(loader))\n",
    "\n",
    "    print(f'Epoch : [{i+1} /{num_epochs}], loss {total_loss[-1]}')"
   ]
  },
  {
   "cell_type": "code",
   "execution_count": 21,
   "id": "2cae10be",
   "metadata": {},
   "outputs": [
    {
     "data": {
      "image/png": "[encoded data removed]",
      "text/plain": [
       "<Figure size 640x480 with 1 Axes>"
      ]
     },
     "metadata": {},
     "output_type": "display_data"
    }
   ],
   "source": [
    "import matplotlib.pyplot as plt\n",
    "\n",
    "plt.plot([val.item() for val in total_loss])\n",
    "plt.title('Training Loss over Epochs')\n",
    "plt.xlabel('Epoch')\n",
    "plt.ylabel('Loss')\n",
    "plt.show()"
   ]
  },
  {
   "cell_type": "code",
   "execution_count": 23,
   "id": "0d89f876",
   "metadata": {},
   "outputs": [
    {
     "name": "stdout",
     "output_type": "stream",
     "text": [
      "Lenght of actual: 299\n",
      "Length of predicted: 299\n"
     ]
    }
   ],
   "source": [
    "model.eval()\n",
    "\n",
    "# Note, defined earlier that testing is dloader with batch size, size of\n",
    "# testing dataset\n",
    "testing = DataLoader(test, batch_size=len(test), shuffle = False)\n",
    "\n",
    "\n",
    "with torch.no_grad():\n",
    "    for x_test, y_test in testing:\n",
    "        predictions = model(x_test)\n",
    "        predicted_classes = (predictions >= .5).float()\n",
    "        y_correct = y_test\n",
    "\n",
    "y_true = y_correct.numpy()\n",
    "y_pred = predicted_classes.numpy()\n",
    "\n",
    "print(f'Lenght of actual: {len(y_true)}')\n",
    "print(f'Length of predicted: {len(y_pred)}')"
   ]
  },
  {
   "cell_type": "code",
   "execution_count": 24,
   "id": "a6799bfb",
   "metadata": {},
   "outputs": [
    {
     "name": "stdout",
     "output_type": "stream",
     "text": [
      "Accuracy: 0.6020066889632107\n",
      "\n",
      "Classification Report:\n",
      "               precision    recall  f1-score   support\n",
      "\n",
      "         0.0       0.00      0.00      0.00       119\n",
      "         1.0       0.60      1.00      0.75       180\n",
      "\n",
      "    accuracy                           0.60       299\n",
      "   macro avg       0.30      0.50      0.38       299\n",
      "weighted avg       0.36      0.60      0.45       299\n",
      "\n",
      "\n",
      "Confusion Matrix:\n",
      " [[  0 119]\n",
      " [  0 180]]\n"
     ]
    },
    {
     "name": "stderr",
     "output_type": "stream",
     "text": [
      "/Users/jonathan/Desktop/UROP/Coding/language-detection/.venv/lib/python3.13/site-packages/sklearn/metrics/_classification.py:1706: UndefinedMetricWarning: Precision is ill-defined and being set to 0.0 in labels with no predicted samples. Use `zero_division` parameter to control this behavior.\n",
      "  _warn_prf(average, modifier, f\"{metric.capitalize()} is\", result.shape[0])\n",
      "/Users/jonathan/Desktop/UROP/Coding/language-detection/.venv/lib/python3.13/site-packages/sklearn/metrics/_classification.py:1706: UndefinedMetricWarning: Precision is ill-defined and being set to 0.0 in labels with no predicted samples. Use `zero_division` parameter to control this behavior.\n",
      "  _warn_prf(average, modifier, f\"{metric.capitalize()} is\", result.shape[0])\n",
      "/Users/jonathan/Desktop/UROP/Coding/language-detection/.venv/lib/python3.13/site-packages/sklearn/metrics/_classification.py:1706: UndefinedMetricWarning: Precision is ill-defined and being set to 0.0 in labels with no predicted samples. Use `zero_division` parameter to control this behavior.\n",
      "  _warn_prf(average, modifier, f\"{metric.capitalize()} is\", result.shape[0])\n"
     ]
    }
   ],
   "source": [
    "from sklearn.metrics import accuracy_score, classification_report, confusion_matrix\n",
    "\n",
    "print(\"Accuracy:\", accuracy_score(y_true, y_pred))\n",
    "print(\"\\nClassification Report:\\n\", classification_report(y_true, y_pred))\n",
    "print(\"\\nConfusion Matrix:\\n\", confusion_matrix(y_true, y_pred))"
   ]
  },
  {
   "cell_type": "code",
   "execution_count": 26,
   "id": "74ea6a90",
   "metadata": {},
   "outputs": [],
   "source": [
    "torch.save(model.state_dict(), f'models/epochs_{num_epochs}__data_{len(train)}__accuracy_{accuracy_score(y_true, y_pred)}.pth')"
   ]
  }
 ],
 "metadata": {
  "kernelspec": {
   "display_name": ".venv",
   "language": "python",
   "name": "python3"
  },
  "language_info": {
   "codemirror_mode": {
    "name": "ipython",
    "version": 3
   },
   "file_extension": ".py",
   "mimetype": "text/x-python",
   "name": "python",
   "nbconvert_exporter": "python",
   "pygments_lexer": "ipython3",
   "version": "3.13.1"
  }
 },
 "nbformat": 4,
 "nbformat_minor": 5
}
