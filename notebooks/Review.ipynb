{
 "cells": [
  {
   "cell_type": "code",
   "execution_count": 1,
   "metadata": {},
   "outputs": [
    {
     "name": "stdout",
     "output_type": "stream",
     "text": [
      "node064\n"
     ]
    }
   ],
   "source": [
    "# Set main root \n",
    "from setup import setup_project_root\n",
    "setup_project_root()\n",
    "\n",
    "!hostname\n",
    "\n",
    "languages = ['de', 'en', 'es', 'it', ]"
   ]
  },
  {
   "cell_type": "code",
   "execution_count": 2,
   "metadata": {},
   "outputs": [],
   "source": [
    "import torch.nn as nn\n",
    "\n",
    "# Need to define arcitecture so that \n",
    "\n",
    "class LanguageDetector(nn.Module):\n",
    "    def __init__(self):\n",
    "        super().__init__()\n",
    "\n",
    "        # 2 Convolution Layers\n",
    "        self.conv1 = nn.Conv2d(1, 16, kernel_size=3, padding=1)\n",
    "        self.conv2 = nn.Conv2d(16, 32, kernel_size=3, padding=1)\n",
    "\n",
    "        # Neuron Layers\n",
    "        # Now apply linear layer --> Dimensions of input are \n",
    "        # Con1 \n",
    "        # (1025, 216) --> (512, 108)\n",
    "        # Con2\n",
    "        # (512, 108) --> (256, 54)\n",
    "        # Now we have 32 of these with respective filters applied\n",
    "        self.fc1 = nn.Linear(32 * 256 * 54, 256)\n",
    "        self.fc2 = nn.Linear(256, 32)\n",
    "        self.fc3 = nn.Linear(32, len(languages))\n",
    "\n",
    "        # Relu, Pool Function\n",
    "        self.relu = nn.ReLU()\n",
    "        self.pool = nn.MaxPool2d(kernel_size=2, stride = 2)\n",
    "\n",
    "\n",
    "    def forward(self, x):\n",
    "\n",
    "        # 2D Convolution Apllication\n",
    "        x = self.pool(self.relu(self.conv1(x)))\n",
    "        x = self.pool(self.relu(self.conv2(x)))\n",
    "\n",
    "        # Flatten Dimensions\n",
    "        x = x.view(x.size(0), -1)\n",
    "\n",
    "        # Dense Layers\n",
    "        x = self.relu(self.fc1(x))\n",
    "        x = self.relu(self.fc2(x))\n",
    "        x = self.fc3(x)\n",
    "\n",
    "        return x\n",
    "\n",
    "model = LanguageDetector()"
   ]
  },
  {
   "cell_type": "code",
   "execution_count": 3,
   "metadata": {},
   "outputs": [
    {
     "name": "stderr",
     "output_type": "stream",
     "text": [
      "/tmp/ipykernel_2751477/2223399914.py:3: FutureWarning: You are using `torch.load` with `weights_only=False` (the current default value), which uses the default pickle module implicitly. It is possible to construct malicious pickle data which will execute arbitrary code during unpickling (See https://github.com/pytorch/pytorch/blob/main/SECURITY.md#untrusted-models for more details). In a future release, the default value for `weights_only` will be flipped to `True`. This limits the functions that could be executed during unpickling. Arbitrary objects will no longer be allowed to be loaded via this mode unless they are explicitly allowlisted by the user via `torch.serialization.add_safe_globals`. We recommend you start setting `weights_only=True` for any use case where you don't have full control of the loaded file. Please open an issue on GitHub for any issues related to this experimental feature.\n",
      "  model.load_state_dict(torch.load('models/model1.pth'))\n",
      "/tmp/ipykernel_2751477/2223399914.py:4: FutureWarning: You are using `torch.load` with `weights_only=False` (the current default value), which uses the default pickle module implicitly. It is possible to construct malicious pickle data which will execute arbitrary code during unpickling (See https://github.com/pytorch/pytorch/blob/main/SECURITY.md#untrusted-models for more details). In a future release, the default value for `weights_only` will be flipped to `True`. This limits the functions that could be executed during unpickling. Arbitrary objects will no longer be allowed to be loaded via this mode unless they are explicitly allowlisted by the user via `torch.serialization.add_safe_globals`. We recommend you start setting `weights_only=True` for any use case where you don't have full control of the loaded file. Please open an issue on GitHub for any issues related to this experimental feature.\n",
      "  test = torch.load('models/test.pt')\n"
     ]
    }
   ],
   "source": [
    "import torch\n",
    "\n",
    "model.load_state_dict(torch.load('models/model1.pth'))\n",
    "test = torch.load('models/test.pt')"
   ]
  },
  {
   "cell_type": "code",
   "execution_count": 4,
   "metadata": {},
   "outputs": [],
   "source": [
    "from torch.utils.data import DataLoader\n",
    "\n",
    "model.eval()\n",
    "\n",
    "# Have to have small test size in order for server not to crash\n",
    "testing = DataLoader(test, batch_size=16, shuffle=False)"
   ]
  },
  {
   "cell_type": "code",
   "execution_count": 5,
   "metadata": {},
   "outputs": [],
   "source": [
    "y_pred = []\n",
    "y_true = []\n",
    "\n",
    "with torch.no_grad():\n",
    "    for x_test, y_test in testing:\n",
    "        outputs = model(x_test)\n",
    "\n",
    "        _, predicted = torch.max(outputs, dim=1)\n",
    "\n",
    "        y_pred.extend(predicted)\n",
    "        y_true.extend(y_test)"
   ]
  },
  {
   "cell_type": "code",
   "execution_count": 6,
   "metadata": {},
   "outputs": [
    {
     "name": "stdout",
     "output_type": "stream",
     "text": [
      "Accuracy: 0.40791666666666665\n",
      "\n",
      "Classification Report:\n",
      "               precision    recall  f1-score   support\n",
      "\n",
      "           0       0.41      0.45      0.43       600\n",
      "           1       0.42      0.41      0.42       600\n",
      "           2       0.42      0.42      0.42       600\n",
      "           3       0.38      0.35      0.37       600\n",
      "\n",
      "    accuracy                           0.41      2400\n",
      "   macro avg       0.41      0.41      0.41      2400\n",
      "weighted avg       0.41      0.41      0.41      2400\n",
      "\n",
      "\n",
      "Confusion Matrix:\n",
      " [[268 100  91 141]\n",
      " [156 249 109  86]\n",
      " [ 95 137 250 118]\n",
      " [138 105 145 212]]\n"
     ]
    }
   ],
   "source": [
    "from sklearn.metrics import accuracy_score, classification_report, confusion_matrix\n",
    "\n",
    "print(\"Accuracy:\", accuracy_score(y_true, y_pred))\n",
    "print(\"\\nClassification Report:\\n\", classification_report(y_true, y_pred))\n",
    "print(\"\\nConfusion Matrix:\\n\", confusion_matrix(y_true, y_pred))\n",
    "\n",
    "languages = ['de', 'en', 'es', 'it', ]"
   ]
  }
 ],
 "metadata": {
  "kernelspec": {
   "display_name": "base",
   "language": "python",
   "name": "python3"
  },
  "language_info": {
   "codemirror_mode": {
    "name": "ipython",
    "version": 3
   },
   "file_extension": ".py",
   "mimetype": "text/x-python",
   "name": "python",
   "nbconvert_exporter": "python",
   "pygments_lexer": "ipython3",
   "version": "3.10.18"
  }
 },
 "nbformat": 4,
 "nbformat_minor": 2
}
