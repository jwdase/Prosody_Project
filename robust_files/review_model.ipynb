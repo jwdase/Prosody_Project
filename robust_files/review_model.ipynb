{
 "cells": [
  {
   "cell_type": "code",
   "execution_count": 1,
   "metadata": {},
   "outputs": [],
   "source": [
    "from path import setup_project_root\n",
    "\n",
    "setup_project_root()"
   ]
  },
  {
   "cell_type": "code",
   "execution_count": 2,
   "metadata": {},
   "outputs": [],
   "source": [
    "import glob \n",
    "\n",
    "base = '/om2/user/moshepol/prosody/low_models/initial_model'\n",
    "\n",
    "inputs = glob.glob(f'{base}/inputs*.pt')\n",
    "labels = glob.glob(f'{base}/outputs*.pt')"
   ]
  },
  {
   "cell_type": "code",
   "execution_count": 3,
   "metadata": {},
   "outputs": [
    {
     "name": "stdout",
     "output_type": "stream",
     "text": [
      "Total Inputs: 16\n",
      "Total Outputs: 16\n"
     ]
    }
   ],
   "source": [
    "print(f'Total Inputs: {len(inputs)}')\n",
    "print(f'Total Outputs: {len(labels)}')"
   ]
  },
  {
   "cell_type": "code",
   "execution_count": 4,
   "metadata": {},
   "outputs": [
    {
     "name": "stdout",
     "output_type": "stream",
     "text": [
      "inputs_0.pt\n",
      "outputs_0.pt\n",
      "inputs_13.pt\n",
      "outputs_13.pt\n",
      "inputs_4.pt\n",
      "outputs_4.pt\n",
      "inputs_9.pt\n",
      "outputs_9.pt\n"
     ]
    }
   ],
   "source": [
    "import torch\n",
    "from torch.utils.data import TensorDataset, DataLoader, ConcatDataset\n",
    "\n",
    "tensors = []\n",
    "first = {'train' : {'en' : ''}}\n",
    "\n",
    "for i, (inp, out) in enumerate(zip(inputs, labels)):\n",
    "\n",
    "    if i % 5 == 0:\n",
    "        print(inp.split('/')[-1])\n",
    "        print(out.split('/')[-1])\n",
    "\n",
    "    if i == 0:\n",
    "        first['train']['en'] = torch.load(inp, weights_only=False)\n",
    "\n",
    "    tensors.append(\n",
    "        TensorDataset(\n",
    "            torch.load(inp, weights_only=False), \n",
    "            torch.load(out, weights_only=False)\n",
    "            )\n",
    "        )"
   ]
  },
  {
   "cell_type": "code",
   "execution_count": 5,
   "metadata": {},
   "outputs": [],
   "source": [
    "data = ConcatDataset(tensors)\n",
    "loader = DataLoader(data, batch_size=256, num_workers=4, shuffle=False)"
   ]
  },
  {
   "cell_type": "code",
   "execution_count": 6,
   "metadata": {},
   "outputs": [
    {
     "data": {
      "text/plain": [
       "torch.Size([39, 172])"
      ]
     },
     "execution_count": 6,
     "metadata": {},
     "output_type": "execute_result"
    }
   ],
   "source": [
    "first['train']['en'][0].shape"
   ]
  },
  {
   "cell_type": "code",
   "execution_count": 7,
   "metadata": {},
   "outputs": [
    {
     "name": "stdout",
     "output_type": "stream",
     "text": [
      "{np.str_('de'): 0, np.str_('en'): 1, np.str_('es'): 2, np.str_('it'): 3}\n"
     ]
    }
   ],
   "source": [
    "import joblib\n",
    "\n",
    "encoder = joblib.load(f'{base}/label_encoder.pkl')\n",
    "\n",
    "class_to_index = {label : idx for idx, label in enumerate(encoder.classes_)}\n",
    "\n",
    "print(class_to_index)"
   ]
  },
  {
   "cell_type": "code",
   "execution_count": 8,
   "metadata": {},
   "outputs": [
    {
     "data": {
      "text/plain": [
       "LanguageDetector(\n",
       "  (conv1): Conv2d(1, 16, kernel_size=(3, 3), stride=(1, 1), padding=(1, 1))\n",
       "  (conv2): Conv2d(16, 32, kernel_size=(3, 3), stride=(1, 1), padding=(1, 1))\n",
       "  (bn1): BatchNorm2d(16, eps=1e-05, momentum=0.1, affine=True, track_running_stats=True)\n",
       "  (bn2): BatchNorm2d(32, eps=1e-05, momentum=0.1, affine=True, track_running_stats=True)\n",
       "  (relu): ReLU()\n",
       "  (pool): MaxPool2d(kernel_size=2, stride=2, padding=0, dilation=1, ceil_mode=False)\n",
       "  (dropout): Dropout(p=0.3, inplace=False)\n",
       "  (fc1): Linear(in_features=12384, out_features=1024, bias=True)\n",
       "  (fc2): Linear(in_features=1024, out_features=128, bias=True)\n",
       "  (fc3): Linear(in_features=128, out_features=4, bias=True)\n",
       ")"
      ]
     },
     "execution_count": 8,
     "metadata": {},
     "output_type": "execute_result"
    }
   ],
   "source": [
    "from train_gpu import LanguageDetector\n",
    "\n",
    "num_classes = 4\n",
    "\n",
    "model = LanguageDetector(num_classes, first['train']['en'][0].shape)\n",
    "\n",
    "model.load_state_dict(torch.load(f'{base}/best_model.pth', weights_only=True))\n",
    "model.eval()\n",
    "\n",
    "model.to('cuda')"
   ]
  },
  {
   "cell_type": "code",
   "execution_count": 9,
   "metadata": {},
   "outputs": [],
   "source": [
    "y_pred = []\n",
    "y_true = []\n",
    "\n",
    "with torch.no_grad():\n",
    "    for inputs, label in loader:\n",
    "\n",
    "        inputs = inputs.to('cuda')\n",
    "        label = label.to('cuda')\n",
    "\n",
    "        inputs = inputs.unsqueeze(1)\n",
    "\n",
    "        outputs = model(inputs)\n",
    "\n",
    "        _, predicted = torch.max(outputs, dim=1)\n",
    "\n",
    "        y_pred.append(predicted)\n",
    "        y_true.append(label)"
   ]
  },
  {
   "cell_type": "code",
   "execution_count": 10,
   "metadata": {},
   "outputs": [],
   "source": [
    "y_pred = torch.cat(y_pred).cpu()\n",
    "y_true = torch.cat(y_true).cpu()"
   ]
  },
  {
   "cell_type": "code",
   "execution_count": 11,
   "metadata": {},
   "outputs": [],
   "source": [
    "name = base.split('/')[-1]"
   ]
  },
  {
   "cell_type": "code",
   "execution_count": 12,
   "metadata": {},
   "outputs": [
    {
     "name": "stdout",
     "output_type": "stream",
     "text": [
      "Accuracy: 0.543701171875\n"
     ]
    }
   ],
   "source": [
    "from sklearn.metrics import accuracy_score\n",
    "\n",
    "acc = f\"Accuracy: {accuracy_score(y_true, y_pred)}\"\n",
    "\n",
    "print(acc)\n",
    "\n",
    "with open(f'review/{name}.txt', 'w') as f:\n",
    "    f.write(acc)"
   ]
  },
  {
   "cell_type": "code",
   "execution_count": 13,
   "metadata": {},
   "outputs": [
    {
     "name": "stdout",
     "output_type": "stream",
     "text": [
      "\n",
      "Classification Report:\n",
      " {np.str_('de'): {'precision': 0.542830540037244, 'recall': 0.5693359375, 'f1-score': 0.555767397521449, 'support': 1024.0}, np.str_('en'): {'precision': 0.5646950092421442, 'recall': 0.5966796875, 'f1-score': 0.5802469135802469, 'support': 1024.0}, np.str_('es'): {'precision': 0.5010204081632653, 'recall': 0.4794921875, 'f1-score': 0.49001996007984033, 'support': 1024.0}, np.str_('it'): {'precision': 0.5645833333333333, 'recall': 0.529296875, 'f1-score': 0.5463709677419355, 'support': 1024.0}, 'accuracy': 0.543701171875, 'macro avg': {'precision': 0.5432823226939967, 'recall': 0.543701171875, 'f1-score': 0.5431013097308679, 'support': 4096.0}, 'weighted avg': {'precision': 0.5432823226939967, 'recall': 0.543701171875, 'f1-score': 0.5431013097308679, 'support': 4096.0}}\n"
     ]
    }
   ],
   "source": [
    "import pandas as pd\n",
    "from sklearn.metrics import classification_report\n",
    "\n",
    "report = classification_report(y_true, y_pred, target_names=encoder.classes_, output_dict=True)\n",
    "\n",
    "print(\"\\nClassification Report:\\n\", report)\n",
    "\n",
    "df = pd.DataFrame(report)\n",
    "\n",
    "df.to_csv(f'review/{name}')"
   ]
  },
  {
   "cell_type": "code",
   "execution_count": 14,
   "metadata": {},
   "outputs": [
    {
     "data": {
      "image/png": "[encoded data removed]",
      "text/plain": [
       "<Figure size 640x480 with 2 Axes>"
      ]
     },
     "metadata": {},
     "output_type": "display_data"
    }
   ],
   "source": [
    "from sklearn.metrics import confusion_matrix, ConfusionMatrixDisplay\n",
    "import matplotlib.pyplot as plt\n",
    "\n",
    "cm = confusion_matrix(y_true, y_pred)\n",
    "disp = ConfusionMatrixDisplay(confusion_matrix=cm, display_labels=encoder.classes_)\n",
    "disp.plot(xticks_rotation='horizontal')\n",
    "plt.savefig(f'review/{name}.png')"
   ]
  }
 ],
 "metadata": {
  "kernelspec": {
   "display_name": "torchgpu",
   "language": "python",
   "name": "python3"
  },
  "language_info": {
   "codemirror_mode": {
    "name": "ipython",
    "version": 3
   },
   "file_extension": ".py",
   "mimetype": "text/x-python",
   "name": "python",
   "nbconvert_exporter": "python",
   "pygments_lexer": "ipython3",
   "version": "3.10.18"
  }
 },
 "nbformat": 4,
 "nbformat_minor": 2
}
