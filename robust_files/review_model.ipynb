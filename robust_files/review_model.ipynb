{
 "cells": [
  {
   "cell_type": "code",
   "execution_count": 22,
   "metadata": {},
   "outputs": [],
   "source": [
    "from path import setup_project_root\n",
    "\n",
    "setup_project_root()"
   ]
  },
  {
   "cell_type": "code",
   "execution_count": 23,
   "metadata": {},
   "outputs": [],
   "source": [
    "import glob \n",
    "\n",
    "base = '/om2/user/moshepol/prosody/models/'\n",
    "\n",
    "inputs = glob.glob(f'{base}sr=16000n_fft=2048hop_length=512inputs*.pt')\n",
    "labels = glob.glob(f'{base}sr=16000n_fft=2048hop_length=512outputs*.pt')"
   ]
  },
  {
   "cell_type": "code",
   "execution_count": 24,
   "metadata": {},
   "outputs": [
    {
     "name": "stdout",
     "output_type": "stream",
     "text": [
      "Total Inputs: 14\n",
      "Total Outputs: 14\n"
     ]
    }
   ],
   "source": [
    "print(f'Total Inputs: {len(inputs)}')\n",
    "print(f'Total Outputs: {len(labels)}')"
   ]
  },
  {
   "cell_type": "code",
   "execution_count": 25,
   "metadata": {},
   "outputs": [
    {
     "name": "stdout",
     "output_type": "stream",
     "text": [
      "sr=16000n_fft=2048hop_length=512inputs_0.pt\n",
      "sr=16000n_fft=2048hop_length=512outputs_0.pt\n",
      "sr=16000n_fft=2048hop_length=512inputs_13.pt\n",
      "sr=16000n_fft=2048hop_length=512outputs_13.pt\n",
      "sr=16000n_fft=2048hop_length=512inputs_6.pt\n",
      "sr=16000n_fft=2048hop_length=512outputs_6.pt\n"
     ]
    }
   ],
   "source": [
    "import torch\n",
    "from torch.utils.data import TensorDataset, DataLoader, ConcatDataset\n",
    "\n",
    "tensors = []\n",
    "first = {'train' : {'en' : ''}}\n",
    "\n",
    "for i, (inp, out) in enumerate(zip(inputs, labels)):\n",
    "\n",
    "    if i % 5 == 0:\n",
    "        print(inp.split('/')[-1])\n",
    "        print(out.split('/')[-1])\n",
    "\n",
    "    if i == 0:\n",
    "        first['train']['en'] = torch.load(inp, weights_only=False)\n",
    "\n",
    "    tensors.append(\n",
    "        TensorDataset(\n",
    "            torch.load(inp, weights_only=False), \n",
    "            torch.load(out, weights_only=False)\n",
    "            )\n",
    "        )"
   ]
  },
  {
   "cell_type": "code",
   "execution_count": 26,
   "metadata": {},
   "outputs": [],
   "source": [
    "data = ConcatDataset(tensors)\n",
    "loader = DataLoader(data, batch_size=256, num_workers=4, shuffle=False)"
   ]
  },
  {
   "cell_type": "code",
   "execution_count": 27,
   "metadata": {},
   "outputs": [
    {
     "data": {
      "text/plain": [
       "torch.Size([256, 1025, 172])"
      ]
     },
     "execution_count": 27,
     "metadata": {},
     "output_type": "execute_result"
    }
   ],
   "source": [
    "first['train']['en'].shape"
   ]
  },
  {
   "cell_type": "code",
   "execution_count": 28,
   "metadata": {},
   "outputs": [],
   "source": [
    "product = 1\n",
    "for val in first['train']['en'][0].shape:\n",
    "    if val % 2 == 0:\n",
    "        product *= val\n",
    "    else:\n",
    "        product *= (val - 1)"
   ]
  },
  {
   "cell_type": "code",
   "execution_count": 29,
   "metadata": {},
   "outputs": [
    {
     "data": {
      "text/plain": [
       "LanguageDetector(\n",
       "  (conv1): Conv2d(1, 16, kernel_size=(3, 3), stride=(1, 1), padding=(1, 1))\n",
       "  (conv2): Conv2d(16, 32, kernel_size=(3, 3), stride=(1, 1), padding=(1, 1))\n",
       "  (fc1): Linear(in_features=352256, out_features=1024, bias=True)\n",
       "  (fc2): Linear(in_features=1024, out_features=128, bias=True)\n",
       "  (fc3): Linear(in_features=128, out_features=4, bias=True)\n",
       "  (bn1): BatchNorm2d(16, eps=1e-05, momentum=0.1, affine=True, track_running_stats=True)\n",
       "  (bn2): BatchNorm2d(32, eps=1e-05, momentum=0.1, affine=True, track_running_stats=True)\n",
       "  (relu): ReLU()\n",
       "  (pool): MaxPool2d(kernel_size=2, stride=2, padding=0, dilation=1, ceil_mode=False)\n",
       "  (dropout): Dropout(p=0.3, inplace=False)\n",
       ")"
      ]
     },
     "execution_count": 29,
     "metadata": {},
     "output_type": "execute_result"
    }
   ],
   "source": [
    "from Multi_Lang_GPU import LanguageDetector, calc_middle_neuron\n",
    "\n",
    "num_classes = 4\n",
    "middle_neuron = product\n",
    "\n",
    "model = LanguageDetector(num_classes, middle_neuron)\n",
    "\n",
    "base = '/om2/user/moshepol/prosody/models/sr=16000n_fft=2048hop_length=512/best_model.pth'\n",
    "model.load_state_dict(torch.load(base, weights_only=True))\n",
    "model.eval()\n",
    "\n",
    "model.to('cuda')"
   ]
  },
  {
   "cell_type": "code",
   "execution_count": 30,
   "metadata": {},
   "outputs": [
    {
     "name": "stdout",
     "output_type": "stream",
     "text": [
      "torch.Size([256, 1025, 172])\n",
      "torch.Size([256, 1025, 172])\n",
      "torch.Size([256, 1025, 172])\n",
      "torch.Size([256, 1025, 172])\n",
      "torch.Size([256, 1025, 172])\n",
      "torch.Size([256, 1025, 172])\n",
      "torch.Size([256, 1025, 172])\n",
      "torch.Size([256, 1025, 172])\n",
      "torch.Size([256, 1025, 172])\n",
      "torch.Size([256, 1025, 172])\n",
      "torch.Size([256, 1025, 172])\n",
      "torch.Size([256, 1025, 172])\n",
      "torch.Size([256, 1025, 172])\n",
      "torch.Size([256, 1025, 172])\n"
     ]
    }
   ],
   "source": [
    "y_pred = []\n",
    "y_true = []\n",
    "\n",
    "with torch.no_grad():\n",
    "    for inputs, label in loader:\n",
    "        print(inputs.shape)\n",
    "\n",
    "        inputs = inputs.to('cuda')\n",
    "        label = label.to('cuda')\n",
    "\n",
    "        inputs = inputs.unsqueeze(1)\n",
    "\n",
    "        outputs = model(inputs)\n",
    "\n",
    "        _, predicted = torch.max(outputs, dim=1)\n",
    "\n",
    "        y_pred.append(predicted)\n",
    "        y_true.append(label)"
   ]
  },
  {
   "cell_type": "code",
   "execution_count": 31,
   "metadata": {},
   "outputs": [],
   "source": [
    "y_pred = torch.cat(y_pred).cpu()\n",
    "y_true = torch.cat(y_true).cpu()"
   ]
  },
  {
   "cell_type": "code",
   "execution_count": 32,
   "metadata": {},
   "outputs": [
    {
     "name": "stdout",
     "output_type": "stream",
     "text": [
      "Accuracy: 0.6604352678571429\n",
      "\n",
      "Classification Report:\n",
      "               precision    recall  f1-score   support\n",
      "\n",
      "           0       0.59      0.70      0.64       896\n",
      "           1       0.65      0.59      0.62       896\n",
      "           2       0.66      0.68      0.67       896\n",
      "           3       0.76      0.66      0.71       896\n",
      "\n",
      "    accuracy                           0.66      3584\n",
      "   macro avg       0.67      0.66      0.66      3584\n",
      "weighted avg       0.67      0.66      0.66      3584\n",
      "\n",
      "\n",
      "Confusion Matrix:\n",
      " [[631 151  62  52]\n",
      " [190 533 135  38]\n",
      " [ 99  93 609  95]\n",
      " [146  39 117 594]]\n"
     ]
    }
   ],
   "source": [
    "from sklearn.metrics import accuracy_score, classification_report, confusion_matrix\n",
    "\n",
    "print(\"Accuracy:\", accuracy_score(y_true, y_pred))\n",
    "print(\"\\nClassification Report:\\n\", classification_report(y_true, y_pred))\n",
    "print(\"\\nConfusion Matrix:\\n\", confusion_matrix(y_true, y_pred))"
   ]
  }
 ],
 "metadata": {
  "kernelspec": {
   "display_name": "torchgpu",
   "language": "python",
   "name": "python3"
  },
  "language_info": {
   "codemirror_mode": {
    "name": "ipython",
    "version": 3
   },
   "file_extension": ".py",
   "mimetype": "text/x-python",
   "name": "python",
   "nbconvert_exporter": "python",
   "pygments_lexer": "ipython3",
   "version": "3.10.18"
  }
 },
 "nbformat": 4,
 "nbformat_minor": 2
}
